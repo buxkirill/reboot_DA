{
  "nbformat": 4,
  "nbformat_minor": 0,
  "metadata": {
    "colab": {
      "name": "lesson_5_homework.ipynb",
      "provenance": [],
      "collapsed_sections": [],
      "toc_visible": true,
      "authorship_tag": "ABX9TyNlUpEjLF44KXgxerL71vNr",
      "include_colab_link": true
    },
    "kernelspec": {
      "name": "python3",
      "display_name": "Python 3"
    },
    "language_info": {
      "name": "python"
    }
  },
  "cells": [
    {
      "cell_type": "markdown",
      "metadata": {
        "id": "view-in-github",
        "colab_type": "text"
      },
      "source": [
        "<a href=\"https://colab.research.google.com/github/buxkirill/reboot_DA/blob/main/SQL/homeworks/lesson_5_homework.ipynb\" target=\"_parent\"><img src=\"https://colab.research.google.com/assets/colab-badge.svg\" alt=\"Open In Colab\"/></a>"
      ]
    },
    {
      "cell_type": "code",
      "metadata": {
        "id": "OwZDjBAZA9lF"
      },
      "source": [
        "#проверка подключения PostgreSQL \n",
        "import psycopg2\n",
        "import pandas as pd\n",
        "#Библиотека ждя визуализации\n",
        "from IPython.display import HTML\n",
        "import plotly.express as px\n",
        "import matplotlib.pyplot as plt\n",
        "import numpy as np\n",
        "#!введите свои реквизиты!\n",
        "DB_HOST = '52.157.159.24'\n",
        "DB_USER = 'student10'\n",
        "DB_USER_PASSWORD = 'student10_password'\n",
        "DB_NAME = 'sql_ex_for_student10'\n",
        "\n",
        "conn = psycopg2.connect(host=DB_HOST, user=DB_USER, password=DB_USER_PASSWORD, dbname=DB_NAME)"
      ],
      "execution_count": null,
      "outputs": []
    },
    {
      "cell_type": "markdown",
      "metadata": {
        "id": "w6g7JMj1BMS-"
      },
      "source": [
        "### --task6 (lesson5) - На занятии\n",
        "-- Компьютерная фирма: Сделать график со средней ценой по всем товарам по каждому производителю (X: maker, Y: avg_price) на базе view all_products_050521\n"
      ]
    },
    {
      "cell_type": "markdown",
      "metadata": {
        "id": "bHjqzVnPBMaG"
      },
      "source": [
        ""
      ]
    },
    {
      "cell_type": "code",
      "metadata": {
        "colab": {
          "base_uri": "https://localhost:8080/",
          "height": 293
        },
        "id": "Vmb69JClBVVJ",
        "outputId": "710ca9ed-2fb8-40fa-d5fa-d973235086ed"
      },
      "source": [
        "request = \"\"\"\n",
        "SELECT * FROM all_products_050521_second_stream;\n",
        "\"\"\"\n",
        "df = pd.read_sql_query(request, conn)\n",
        "\n",
        "df.groupby(by='maker').mean().plot(kind='bar', title='avg price')\n",
        "plt.show()"
      ],
      "execution_count": null,
      "outputs": [
        {
          "output_type": "display_data",
          "data": {
            "image/png": "[encoded data removed]",
            "text/plain": [
              "<Figure size 432x288 with 1 Axes>"
            ]
          },
          "metadata": {
            "needs_background": "light"
          }
        }
      ]
    },
    {
      "cell_type": "markdown",
      "metadata": {
        "id": "2tIinahQFRMW"
      },
      "source": [
        "### --task11 (lesson5) - Домашнее задание\n",
        "-- Компьютерная фирма: Построить график с со средней и максимальной ценами на базе products_with_lowest_price (X: maker, Y1: max_price, Y2: avg)price\n",
        "\n"
      ]
    },
    {
      "cell_type": "code",
      "metadata": {
        "colab": {
          "base_uri": "https://localhost:8080/",
          "height": 277
        },
        "id": "dBPbueyqFseM",
        "outputId": "31cb5d02-8725-44e1-dd62-7aeadddeb039"
      },
      "source": [
        "request = \"\"\"\n",
        "SELECT * from products_with_lowest_price_second_stream;\n",
        "\"\"\"\n",
        "df = pd.read_sql_query(request, conn)\n",
        "\n",
        "df.groupby(by='maker').agg({\"price\": [max, np.mean]}).plot(kind='bar')\n",
        "plt.show()"
      ],
      "execution_count": null,
      "outputs": [
        {
          "output_type": "display_data",
          "data": {
            "image/png": "[encoded data removed]",
            "text/plain": [
              "<Figure size 432x288 with 1 Axes>"
            ]
          },
          "metadata": {
            "needs_background": "light"
          }
        }
      ]
    },
    {
      "cell_type": "markdown",
      "metadata": {
        "id": "aFEP-Ud5VvFI"
      },
      "source": [
        "### --task3 (lesson5) - Домашнее задание\n",
        "-- Компьютерная фирма: Сделать на базе предыдущенр view график - круговую диаграмму"
      ]
    },
    {
      "cell_type": "code",
      "metadata": {
        "id": "2NmIiSsvBBxa",
        "colab": {
          "base_uri": "https://localhost:8080/",
          "height": 575
        },
        "outputId": "342b5a94-4543-4767-c9c2-56a3c5e579f5"
      },
      "source": [
        "# первоначально создал view с количеством продуктов, а не долями от общего количества. \n",
        "# потом исправил, но не получалось удалить view и создать новый \n",
        "# Поэтому на диаграмме указан count, а не part.\n",
        "request = \"\"\"\n",
        "SELECT * from distribution_by_type_second_stream;\n",
        "\"\"\"\n",
        "df = pd.read_sql_query(request, conn)\n",
        "\n",
        "df.set_index('type').plot.pie(y='count',        # y='part',\n",
        "                              figsize=(10,10))\n",
        "plt.show()"
      ],
      "execution_count": 12,
      "outputs": [
        {
          "output_type": "display_data",
          "data": {
            "image/png": "[encoded data removed]",
            "text/plain": [
              "<Figure size 720x720 with 1 Axes>"
            ]
          },
          "metadata": {}
        }
      ]
    },
    {
      "cell_type": "code",
      "metadata": {
        "id": "5ZRAIPKLWZRg"
      },
      "source": [
        ""
      ],
      "execution_count": null,
      "outputs": []
    }
  ]
}