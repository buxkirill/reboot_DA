{
  "nbformat": 4,
  "nbformat_minor": 0,
  "metadata": {
    "colab": {
      "name": "homework1.ipynb",
      "provenance": [],
      "authorship_tag": "ABX9TyPTFqvCYX3uCQHr0W4P5aS5",
      "include_colab_link": true
    },
    "kernelspec": {
      "name": "python3",
      "display_name": "Python 3"
    },
    "language_info": {
      "name": "python"
    }
  },
  "cells": [
    {
      "cell_type": "markdown",
      "metadata": {
        "id": "view-in-github",
        "colab_type": "text"
      },
      "source": [
        "<a href=\"https://colab.research.google.com/github/buxkirill/reboot_DA/blob/main/ml/homeworks/homework1.ipynb\" target=\"_parent\"><img src=\"https://colab.research.google.com/assets/colab-badge.svg\" alt=\"Open In Colab\"/></a>"
      ]
    },
    {
      "cell_type": "code",
      "metadata": {
        "id": "r12by3sbF_DV"
      },
      "source": [
        "import pandas as pd\n",
        "import warnings\n",
        "from sklearn.model_selection import train_test_split\n",
        "from sklearn.linear_model import Ridge, Lasso, LinearRegression, ElasticNet\n",
        "from sklearn.metrics import mean_squared_error\n",
        "from sklearn.metrics import mean_absolute_error\n",
        "warnings.filterwarnings('ignore')"
      ],
      "execution_count": 1,
      "outputs": []
    },
    {
      "cell_type": "markdown",
      "metadata": {
        "id": "2olBOTaURHzX"
      },
      "source": [
        "### Загрузим данные в ноутбук"
      ]
    },
    {
      "cell_type": "code",
      "metadata": {
        "id": "Grlr5_AFHBJQ"
      },
      "source": [
        "!wget 'https://drive.google.com/uc?export=download&id=1FQXha1q0oKlj1IGya6fZhQpRxy0Ri63J' -O './housing.csv'\n",
        "df = pd.read_csv('housing.csv')"
      ],
      "execution_count": null,
      "outputs": []
    },
    {
      "cell_type": "markdown",
      "metadata": {
        "id": "M3RTZVO4RXFN"
      },
      "source": [
        "### Проверим наличие пропусков в данных"
      ]
    },
    {
      "cell_type": "code",
      "metadata": {
        "colab": {
          "base_uri": "https://localhost:8080/"
        },
        "id": "FVRHGalPRDCp",
        "outputId": "ca1bc9de-cc6d-4177-ef92-950508b0db80"
      },
      "source": [
        "df.info()"
      ],
      "execution_count": 3,
      "outputs": [
        {
          "output_type": "stream",
          "name": "stdout",
          "text": [
            "<class 'pandas.core.frame.DataFrame'>\n",
            "RangeIndex: 506 entries, 0 to 505\n",
            "Data columns (total 14 columns):\n",
            " #   Column   Non-Null Count  Dtype  \n",
            "---  ------   --------------  -----  \n",
            " 0   CRIM     506 non-null    float64\n",
            " 1   ZN       506 non-null    float64\n",
            " 2   INDUS    506 non-null    float64\n",
            " 3   CHAS     506 non-null    float64\n",
            " 4   NOX      506 non-null    float64\n",
            " 5   RM       506 non-null    float64\n",
            " 6   AGE      506 non-null    float64\n",
            " 7   DIS      506 non-null    float64\n",
            " 8   RAD      506 non-null    float64\n",
            " 9   TAX      506 non-null    float64\n",
            " 10  PTRATIO  506 non-null    float64\n",
            " 11  B        506 non-null    float64\n",
            " 12  LSTAT    506 non-null    float64\n",
            " 13  MEDV     506 non-null    float64\n",
            "dtypes: float64(14)\n",
            "memory usage: 55.5 KB\n"
          ]
        }
      ]
    },
    {
      "cell_type": "markdown",
      "metadata": {
        "id": "x02eZ4xWMwRq"
      },
      "source": [
        "### Разобьем выгрузки на train/test"
      ]
    },
    {
      "cell_type": "code",
      "metadata": {
        "id": "q4BJP5CgHq3W"
      },
      "source": [
        "X_train, X_test, y_train, y_test = train_test_split(df.drop('MEDV', axis=1), \n",
        "                                                    df.MEDV, \n",
        "                                                    test_size=0.22, \n",
        "                                                    random_state=0)"
      ],
      "execution_count": 4,
      "outputs": []
    },
    {
      "cell_type": "markdown",
      "metadata": {
        "id": "_lhTZqv_M0-t"
      },
      "source": [
        "### Посчитаем ошибки для 4 видов линейных моделей"
      ]
    },
    {
      "cell_type": "code",
      "metadata": {
        "colab": {
          "base_uri": "https://localhost:8080/"
        },
        "id": "3n21OcYQNFad",
        "outputId": "c53796de-c226-4854-ecfe-afaa8a580a38"
      },
      "source": [
        "result = []\n",
        "models_list = [(LinearRegression, 'LinearRegression'),\n",
        "               (Ridge, 'Ridge'), \n",
        "               (ElasticNet, 'ElasticNet'),\n",
        "               (Lasso, 'Lasso')]\n",
        "\n",
        "for regressor_model in models_list:\n",
        "  model = regressor_model[0]().fit(X_train, y_train)\n",
        "  print(f'MSE with {regressor_model[1]}:', round(mean_squared_error(y_test, model.predict(X_test)), 1))\n",
        "  print(f'MAE with {regressor_model[1]}:', round(mean_absolute_error(y_test, model.predict(X_test)), 1))"
      ],
      "execution_count": 5,
      "outputs": [
        {
          "output_type": "stream",
          "name": "stdout",
          "text": [
            "MSE with LinearRegression: 32.8\n",
            "MAE with LinearRegression: 3.9\n",
            "MSE with Ridge: 33.6\n",
            "MAE with Ridge: 3.9\n",
            "MSE with ElasticNet: 38.7\n",
            "MAE with ElasticNet: 4.2\n",
            "MSE with Lasso: 39.4\n",
            "MAE with Lasso: 4.2\n"
          ]
        }
      ]
    },
    {
      "cell_type": "markdown",
      "metadata": {
        "id": "GWD8H8usSH-D"
      },
      "source": [
        "Наименьшая ошибка получилось с обычной линейной регрессией без регуляризаторов"
      ]
    }
  ]
}