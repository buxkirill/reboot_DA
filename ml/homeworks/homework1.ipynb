{
  "nbformat": 4,
  "nbformat_minor": 0,
  "metadata": {
    "colab": {
      "name": "homework1.ipynb",
      "provenance": [],
      "authorship_tag": "ABX9TyOxTXkAWFBx4xeWF1aYeNGw",
      "include_colab_link": true
    },
    "kernelspec": {
      "name": "python3",
      "display_name": "Python 3"
    },
    "language_info": {
      "name": "python"
    }
  },
  "cells": [
    {
      "cell_type": "markdown",
      "metadata": {
        "id": "view-in-github",
        "colab_type": "text"
      },
      "source": [
        "<a href=\"https://colab.research.google.com/github/buxkirill/reboot_DA/blob/main/ml/homeworks/homework1.ipynb\" target=\"_parent\"><img src=\"https://colab.research.google.com/assets/colab-badge.svg\" alt=\"Open In Colab\"/></a>"
      ]
    },
    {
      "cell_type": "code",
      "metadata": {
        "id": "r12by3sbF_DV"
      },
      "source": [
        "import pandas as pd\n",
        "import warnings\n",
        "from numpy.random import seed\n",
        "from sklearn.model_selection import train_test_split\n",
        "from sklearn.linear_model import Ridge, Lasso, LinearRegression, ElasticNet, SGDRegressor\n",
        "from sklearn.metrics import mean_squared_error\n",
        "from sklearn.metrics import mean_absolute_error\n",
        "from sklearn.preprocessing import StandardScaler\n",
        "warnings.filterwarnings('ignore')"
      ],
      "execution_count": 1,
      "outputs": []
    },
    {
      "cell_type": "markdown",
      "metadata": {
        "id": "2olBOTaURHzX"
      },
      "source": [
        "### Загрузим данные в ноутбук"
      ]
    },
    {
      "cell_type": "code",
      "metadata": {
        "id": "Grlr5_AFHBJQ"
      },
      "source": [
        "!wget 'https://drive.google.com/uc?export=download&id=1FQXha1q0oKlj1IGya6fZhQpRxy0Ri63J' -O './housing.csv'\n",
        "df = pd.read_csv('housing.csv')"
      ],
      "execution_count": null,
      "outputs": []
    },
    {
      "cell_type": "markdown",
      "metadata": {
        "id": "M3RTZVO4RXFN"
      },
      "source": [
        "### Проверим наличие пропусков в данных"
      ]
    },
    {
      "cell_type": "code",
      "metadata": {
        "colab": {
          "base_uri": "https://localhost:8080/"
        },
        "id": "FVRHGalPRDCp",
        "outputId": "0fb06751-de41-4ee8-f2eb-4572628e73e3"
      },
      "source": [
        "df.info()"
      ],
      "execution_count": 3,
      "outputs": [
        {
          "output_type": "stream",
          "name": "stdout",
          "text": [
            "<class 'pandas.core.frame.DataFrame'>\n",
            "RangeIndex: 506 entries, 0 to 505\n",
            "Data columns (total 14 columns):\n",
            " #   Column   Non-Null Count  Dtype  \n",
            "---  ------   --------------  -----  \n",
            " 0   CRIM     506 non-null    float64\n",
            " 1   ZN       506 non-null    float64\n",
            " 2   INDUS    506 non-null    float64\n",
            " 3   CHAS     506 non-null    float64\n",
            " 4   NOX      506 non-null    float64\n",
            " 5   RM       506 non-null    float64\n",
            " 6   AGE      506 non-null    float64\n",
            " 7   DIS      506 non-null    float64\n",
            " 8   RAD      506 non-null    float64\n",
            " 9   TAX      506 non-null    float64\n",
            " 10  PTRATIO  506 non-null    float64\n",
            " 11  B        506 non-null    float64\n",
            " 12  LSTAT    506 non-null    float64\n",
            " 13  MEDV     506 non-null    float64\n",
            "dtypes: float64(14)\n",
            "memory usage: 55.5 KB\n"
          ]
        }
      ]
    },
    {
      "cell_type": "markdown",
      "metadata": {
        "id": "x02eZ4xWMwRq"
      },
      "source": [
        "### Разобьем выгрузки на train/test"
      ]
    },
    {
      "cell_type": "code",
      "metadata": {
        "id": "q4BJP5CgHq3W"
      },
      "source": [
        "seed(42)\n",
        "X_train, X_test, y_train, y_test = train_test_split(df.drop('MEDV', axis=1), \n",
        "                                                    df.MEDV, \n",
        "                                                    test_size=0.22)"
      ],
      "execution_count": 4,
      "outputs": []
    },
    {
      "cell_type": "markdown",
      "metadata": {
        "id": "_lhTZqv_M0-t"
      },
      "source": [
        "### Посчитаем ошибки для 5 видов линейных моделей"
      ]
    },
    {
      "cell_type": "code",
      "metadata": {
        "colab": {
          "base_uri": "https://localhost:8080/"
        },
        "id": "3n21OcYQNFad",
        "outputId": "bf67c2cf-d301-4d78-866f-5f862ecbdf72"
      },
      "source": [
        "models_list = [(LinearRegression, 'LinearRegression'),\n",
        "               (Ridge, 'Ridge'), \n",
        "               (ElasticNet, 'ElasticNet'),\n",
        "               (Lasso, 'Lasso'),\n",
        "               (SGDRegressor, 'SGDRegressor')]\n",
        "\n",
        "for regressor_model in models_list:\n",
        "  model = regressor_model[0]().fit(X_train, y_train)\n",
        "  print(f'RMSE with {regressor_model[1]}:', round(mean_squared_error(y_test, model.predict(X_test), squared=False), 1))\n",
        "  print(f'MAE with {regressor_model[1]}:', round(mean_absolute_error(y_test, model.predict(X_test)), 1))"
      ],
      "execution_count": 5,
      "outputs": [
        {
          "output_type": "stream",
          "name": "stdout",
          "text": [
            "RMSE with LinearRegression: 4.8\n",
            "MAE with LinearRegression: 3.1\n",
            "RMSE with Ridge: 4.8\n",
            "MAE with Ridge: 3.1\n",
            "RMSE with ElasticNet: 4.9\n",
            "MAE with ElasticNet: 3.3\n",
            "RMSE with Lasso: 5.0\n",
            "MAE with Lasso: 3.3\n",
            "RMSE with SGDRegressor: 59792816553348.8\n",
            "MAE with SGDRegressor: 51512568568471.3\n"
          ]
        }
      ]
    },
    {
      "cell_type": "markdown",
      "metadata": {
        "id": "GWD8H8usSH-D"
      },
      "source": [
        "Наименьшая ошибка получилось с обычной линейной регрессией без регуляризаторов\n",
        "\n",
        "У SGDRegressor значение ошибки получилось огромное"
      ]
    },
    {
      "cell_type": "markdown",
      "metadata": {
        "id": "_xUjMhY2T5No"
      },
      "source": [
        "### Повторно обучим модели с отмасштабированными данными"
      ]
    },
    {
      "cell_type": "code",
      "metadata": {
        "colab": {
          "base_uri": "https://localhost:8080/"
        },
        "id": "1E8cDtanTKww",
        "outputId": "108647a6-e5f0-4ce9-8888-2cead8b2d644"
      },
      "source": [
        "seed(42)\n",
        "scaler = StandardScaler()\n",
        "X_train, X_test, y_train, y_test = train_test_split(scaler.fit_transform(df.drop('MEDV', axis=1)), \n",
        "                                                    df.MEDV, \n",
        "                                                    test_size=0.22)\n",
        "\n",
        "models_list = [(LinearRegression, 'LinearRegression'),\n",
        "               (Ridge, 'Ridge'), \n",
        "               (ElasticNet, 'ElasticNet'),\n",
        "               (Lasso, 'Lasso'),\n",
        "               (SGDRegressor, 'SGDRegressor')]\n",
        "\n",
        "for regressor_model in models_list:\n",
        "  model = regressor_model[0]().fit(X_train, y_train)\n",
        "  print(f'RMSE with {regressor_model[1]}:', round(mean_squared_error(y_test, model.predict(X_test), squared=False), 1))\n",
        "  print(f'MAE with {regressor_model[1]}:', round(mean_absolute_error(y_test, model.predict(X_test)), 1))"
      ],
      "execution_count": 6,
      "outputs": [
        {
          "output_type": "stream",
          "name": "stdout",
          "text": [
            "RMSE with LinearRegression: 4.8\n",
            "MAE with LinearRegression: 3.1\n",
            "RMSE with Ridge: 4.8\n",
            "MAE with Ridge: 3.1\n",
            "RMSE with ElasticNet: 5.2\n",
            "MAE with ElasticNet: 3.4\n",
            "RMSE with Lasso: 5.1\n",
            "MAE with Lasso: 3.4\n",
            "RMSE with SGDRegressor: 4.8\n",
            "MAE with SGDRegressor: 3.1\n"
          ]
        }
      ]
    }
  ]
}