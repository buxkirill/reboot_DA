{
  "nbformat": 4,
  "nbformat_minor": 0,
  "metadata": {
    "colab": {
      "name": "homework2.ipynb",
      "provenance": [],
      "collapsed_sections": [],
      "authorship_tag": "ABX9TyMBmWGiFJ9Oa31lNMlj9UyK",
      "include_colab_link": true
    },
    "kernelspec": {
      "name": "python3",
      "display_name": "Python 3"
    },
    "language_info": {
      "name": "python"
    }
  },
  "cells": [
    {
      "cell_type": "markdown",
      "metadata": {
        "id": "view-in-github",
        "colab_type": "text"
      },
      "source": [
        "<a href=\"https://colab.research.google.com/github/buxkirill/reboot_DA/blob/main/ml/homeworks/homework2.ipynb\" target=\"_parent\"><img src=\"https://colab.research.google.com/assets/colab-badge.svg\" alt=\"Open In Colab\"/></a>"
      ]
    },
    {
      "cell_type": "code",
      "metadata": {
        "id": "8Lu15sXR53eb"
      },
      "source": [
        "import pandas as pd\n",
        "import matplotlib.pyplot as plt\n",
        "import warnings\n",
        "import re\n",
        "from collections import Counter\n",
        "from google.colab import files\n",
        "from sklearn.ensemble import RandomForestClassifier\n",
        "from sklearn.model_selection import GridSearchCV, train_test_split, cross_val_score, KFold\n",
        "from sklearn.metrics import recall_score, precision_score, f1_score, roc_auc_score, roc_curve\n",
        "\n",
        "warnings.filterwarnings('ignore')\n",
        "#files.upload()"
      ],
      "execution_count": 1,
      "outputs": []
    },
    {
      "cell_type": "markdown",
      "metadata": {
        "id": "LrESKone6jmP"
      },
      "source": [
        "ДЗ №2\n",
        "\n",
        "Файл titanicdf.csv, задачи:\n",
        "###1. Предобработать данные (пропуски, замена текста, дубликаты и т.д)\n"
      ]
    },
    {
      "cell_type": "code",
      "metadata": {
        "colab": {
          "base_uri": "https://localhost:8080/",
          "height": 206
        },
        "id": "R4SmtC7_InlN",
        "outputId": "8d7b46ea-2b94-46ea-d65f-4cf4151f3898"
      },
      "source": [
        "df = pd.read_csv('titanic.csv', sep=',')\n",
        "df.drop_duplicates(inplace=True)\n",
        "df.Age.fillna(value=df.Age.mean(), inplace=True)\n",
        "df = pd.get_dummies(df, columns=['Sex', 'Embarked'])\n",
        "df.drop(['Ticket', 'Cabin', 'PassengerId'], axis=1, inplace=True)\n",
        "df.Name = df.Name.apply(lambda x: re.sub(r\"[-()\\\"#/@;:<>{}=~|.?,]\", \"\", x).lower())\n",
        "df.sample(5)"
      ],
      "execution_count": 2,
      "outputs": [
        {
          "output_type": "execute_result",
          "data": {
            "text/html": [
              "<div>\n",
              "<style scoped>\n",
              "    .dataframe tbody tr th:only-of-type {\n",
              "        vertical-align: middle;\n",
              "    }\n",
              "\n",
              "    .dataframe tbody tr th {\n",
              "        vertical-align: top;\n",
              "    }\n",
              "\n",
              "    .dataframe thead th {\n",
              "        text-align: right;\n",
              "    }\n",
              "</style>\n",
              "<table border=\"1\" class=\"dataframe\">\n",
              "  <thead>\n",
              "    <tr style=\"text-align: right;\">\n",
              "      <th></th>\n",
              "      <th>Survived</th>\n",
              "      <th>Pclass</th>\n",
              "      <th>Name</th>\n",
              "      <th>Age</th>\n",
              "      <th>SibSp</th>\n",
              "      <th>Parch</th>\n",
              "      <th>Fare</th>\n",
              "      <th>Sex_female</th>\n",
              "      <th>Sex_male</th>\n",
              "      <th>Embarked_C</th>\n",
              "      <th>Embarked_Q</th>\n",
              "      <th>Embarked_S</th>\n",
              "    </tr>\n",
              "  </thead>\n",
              "  <tbody>\n",
              "    <tr>\n",
              "      <th>251</th>\n",
              "      <td>0</td>\n",
              "      <td>3</td>\n",
              "      <td>strom mrs wilhelm elna matilda persson</td>\n",
              "      <td>29.0</td>\n",
              "      <td>1</td>\n",
              "      <td>1</td>\n",
              "      <td>10.4625</td>\n",
              "      <td>1</td>\n",
              "      <td>0</td>\n",
              "      <td>0</td>\n",
              "      <td>0</td>\n",
              "      <td>1</td>\n",
              "    </tr>\n",
              "    <tr>\n",
              "      <th>50</th>\n",
              "      <td>0</td>\n",
              "      <td>3</td>\n",
              "      <td>panula master juha niilo</td>\n",
              "      <td>7.0</td>\n",
              "      <td>4</td>\n",
              "      <td>1</td>\n",
              "      <td>39.6875</td>\n",
              "      <td>0</td>\n",
              "      <td>1</td>\n",
              "      <td>0</td>\n",
              "      <td>0</td>\n",
              "      <td>1</td>\n",
              "    </tr>\n",
              "    <tr>\n",
              "      <th>670</th>\n",
              "      <td>1</td>\n",
              "      <td>2</td>\n",
              "      <td>brown mrs thomas william solomon elizabeth cat...</td>\n",
              "      <td>40.0</td>\n",
              "      <td>1</td>\n",
              "      <td>1</td>\n",
              "      <td>39.0000</td>\n",
              "      <td>1</td>\n",
              "      <td>0</td>\n",
              "      <td>0</td>\n",
              "      <td>0</td>\n",
              "      <td>1</td>\n",
              "    </tr>\n",
              "    <tr>\n",
              "      <th>418</th>\n",
              "      <td>0</td>\n",
              "      <td>2</td>\n",
              "      <td>matthews mr william john</td>\n",
              "      <td>30.0</td>\n",
              "      <td>0</td>\n",
              "      <td>0</td>\n",
              "      <td>13.0000</td>\n",
              "      <td>0</td>\n",
              "      <td>1</td>\n",
              "      <td>0</td>\n",
              "      <td>0</td>\n",
              "      <td>1</td>\n",
              "    </tr>\n",
              "    <tr>\n",
              "      <th>676</th>\n",
              "      <td>0</td>\n",
              "      <td>3</td>\n",
              "      <td>sawyer mr frederick charles</td>\n",
              "      <td>24.5</td>\n",
              "      <td>0</td>\n",
              "      <td>0</td>\n",
              "      <td>8.0500</td>\n",
              "      <td>0</td>\n",
              "      <td>1</td>\n",
              "      <td>0</td>\n",
              "      <td>0</td>\n",
              "      <td>1</td>\n",
              "    </tr>\n",
              "  </tbody>\n",
              "</table>\n",
              "</div>"
            ],
            "text/plain": [
              "     Survived  Pclass  ... Embarked_Q  Embarked_S\n",
              "251         0       3  ...          0           1\n",
              "50          0       3  ...          0           1\n",
              "670         1       2  ...          0           1\n",
              "418         0       2  ...          0           1\n",
              "676         0       3  ...          0           1\n",
              "\n",
              "[5 rows x 12 columns]"
            ]
          },
          "metadata": {},
          "execution_count": 2
        }
      ]
    },
    {
      "cell_type": "code",
      "metadata": {
        "colab": {
          "base_uri": "https://localhost:8080/"
        },
        "id": "5fUPhvaRc9HB",
        "outputId": "b7adf952-a4e3-462f-e503-ba3b422e2821"
      },
      "source": [
        "# самые встречаемые слова в Name\n",
        "words = []\n",
        "for name in df.Name.values:\n",
        "  words.extend(name.split(' '))\n",
        "Counter(words).most_common(5)"
      ],
      "execution_count": 3,
      "outputs": [
        {
          "output_type": "execute_result",
          "data": {
            "text/plain": [
              "[('mr', 521), ('miss', 182), ('mrs', 129), ('william', 64), ('john', 44)]"
            ]
          },
          "metadata": {},
          "execution_count": 3
        }
      ]
    },
    {
      "cell_type": "code",
      "metadata": {
        "colab": {
          "base_uri": "https://localhost:8080/",
          "height": 206
        },
        "id": "8Hl_K0WwgOh-",
        "outputId": "f6617c02-4ece-494b-e37f-6ec2eddeb6f0"
      },
      "source": [
        "# добавим еще несколько признаков из текста\n",
        "df['is_mr'] = df.Name.apply(lambda x: 'mr' in x)\n",
        "df['is_miss'] = df.Name.apply(lambda x: 'miss' in x)\n",
        "df['is_mrs'] = df.Name.apply(lambda x: 'mrs' in x)\n",
        "df.replace(True, 1, inplace=True)\n",
        "df.replace(False, 0, inplace=True)\n",
        "df.sample(5)"
      ],
      "execution_count": 4,
      "outputs": [
        {
          "output_type": "execute_result",
          "data": {
            "text/html": [
              "<div>\n",
              "<style scoped>\n",
              "    .dataframe tbody tr th:only-of-type {\n",
              "        vertical-align: middle;\n",
              "    }\n",
              "\n",
              "    .dataframe tbody tr th {\n",
              "        vertical-align: top;\n",
              "    }\n",
              "\n",
              "    .dataframe thead th {\n",
              "        text-align: right;\n",
              "    }\n",
              "</style>\n",
              "<table border=\"1\" class=\"dataframe\">\n",
              "  <thead>\n",
              "    <tr style=\"text-align: right;\">\n",
              "      <th></th>\n",
              "      <th>Survived</th>\n",
              "      <th>Pclass</th>\n",
              "      <th>Name</th>\n",
              "      <th>Age</th>\n",
              "      <th>SibSp</th>\n",
              "      <th>Parch</th>\n",
              "      <th>Fare</th>\n",
              "      <th>Sex_female</th>\n",
              "      <th>Sex_male</th>\n",
              "      <th>Embarked_C</th>\n",
              "      <th>Embarked_Q</th>\n",
              "      <th>Embarked_S</th>\n",
              "      <th>is_mr</th>\n",
              "      <th>is_miss</th>\n",
              "      <th>is_mrs</th>\n",
              "    </tr>\n",
              "  </thead>\n",
              "  <tbody>\n",
              "    <tr>\n",
              "      <th>216</th>\n",
              "      <td>1</td>\n",
              "      <td>3</td>\n",
              "      <td>honkanen miss eliina</td>\n",
              "      <td>27.0</td>\n",
              "      <td>0</td>\n",
              "      <td>0</td>\n",
              "      <td>7.9250</td>\n",
              "      <td>1</td>\n",
              "      <td>0</td>\n",
              "      <td>0</td>\n",
              "      <td>0</td>\n",
              "      <td>1</td>\n",
              "      <td>0.0</td>\n",
              "      <td>1.0</td>\n",
              "      <td>0.0</td>\n",
              "    </tr>\n",
              "    <tr>\n",
              "      <th>638</th>\n",
              "      <td>0</td>\n",
              "      <td>3</td>\n",
              "      <td>panula mrs juha maria emilia ojala</td>\n",
              "      <td>41.0</td>\n",
              "      <td>0</td>\n",
              "      <td>5</td>\n",
              "      <td>39.6875</td>\n",
              "      <td>1</td>\n",
              "      <td>0</td>\n",
              "      <td>0</td>\n",
              "      <td>0</td>\n",
              "      <td>1</td>\n",
              "      <td>1.0</td>\n",
              "      <td>0.0</td>\n",
              "      <td>1.0</td>\n",
              "    </tr>\n",
              "    <tr>\n",
              "      <th>551</th>\n",
              "      <td>0</td>\n",
              "      <td>2</td>\n",
              "      <td>sharp mr percival james r</td>\n",
              "      <td>27.0</td>\n",
              "      <td>0</td>\n",
              "      <td>0</td>\n",
              "      <td>26.0000</td>\n",
              "      <td>0</td>\n",
              "      <td>1</td>\n",
              "      <td>0</td>\n",
              "      <td>0</td>\n",
              "      <td>1</td>\n",
              "      <td>1.0</td>\n",
              "      <td>0.0</td>\n",
              "      <td>0.0</td>\n",
              "    </tr>\n",
              "    <tr>\n",
              "      <th>796</th>\n",
              "      <td>1</td>\n",
              "      <td>1</td>\n",
              "      <td>leader dr alice farnham</td>\n",
              "      <td>49.0</td>\n",
              "      <td>0</td>\n",
              "      <td>0</td>\n",
              "      <td>25.9292</td>\n",
              "      <td>1</td>\n",
              "      <td>0</td>\n",
              "      <td>0</td>\n",
              "      <td>0</td>\n",
              "      <td>1</td>\n",
              "      <td>0.0</td>\n",
              "      <td>0.0</td>\n",
              "      <td>0.0</td>\n",
              "    </tr>\n",
              "    <tr>\n",
              "      <th>724</th>\n",
              "      <td>1</td>\n",
              "      <td>1</td>\n",
              "      <td>chambers mr norman campbell</td>\n",
              "      <td>27.0</td>\n",
              "      <td>1</td>\n",
              "      <td>0</td>\n",
              "      <td>53.1000</td>\n",
              "      <td>0</td>\n",
              "      <td>1</td>\n",
              "      <td>0</td>\n",
              "      <td>0</td>\n",
              "      <td>1</td>\n",
              "      <td>1.0</td>\n",
              "      <td>0.0</td>\n",
              "      <td>0.0</td>\n",
              "    </tr>\n",
              "  </tbody>\n",
              "</table>\n",
              "</div>"
            ],
            "text/plain": [
              "     Survived  Pclass  ... is_miss  is_mrs\n",
              "216         1       3  ...     1.0     0.0\n",
              "638         0       3  ...     0.0     1.0\n",
              "551         0       2  ...     0.0     0.0\n",
              "796         1       1  ...     0.0     0.0\n",
              "724         1       1  ...     0.0     0.0\n",
              "\n",
              "[5 rows x 15 columns]"
            ]
          },
          "metadata": {},
          "execution_count": 4
        }
      ]
    },
    {
      "cell_type": "markdown",
      "metadata": {
        "id": "3ir8uIidbH1P"
      },
      "source": [
        "###2. Использовать для классификации sklearn.ensemble.RandomForestClassifier\n",
        "###3. Подобрать лучшие гиперпараметры (n_estimators, criterion, max_depth)\n"
      ]
    },
    {
      "cell_type": "code",
      "metadata": {
        "id": "5ReINP51JZnO"
      },
      "source": [
        "X_train, X_test, y_train, y_test =  train_test_split(df.drop(['Survived', 'Name'], axis=1), \n",
        "                                                     df.Survived, test_size=0.3, random_state=42)"
      ],
      "execution_count": 5,
      "outputs": []
    },
    {
      "cell_type": "code",
      "metadata": {
        "colab": {
          "base_uri": "https://localhost:8080/"
        },
        "id": "aXDLcFuSGiQ5",
        "outputId": "3c7fc6ef-be4c-472d-870d-68c1b499027a"
      },
      "source": [
        "params = {'n_estimators': [40, 60, 80, 100, 120, 140, 160, 180],\n",
        "          'criterion': ['gini', 'entropy'],\n",
        "          'max_depth': [None, 2, 4, 6, 8, 10]}\n",
        "\n",
        "grid = GridSearchCV(RandomForestClassifier(random_state=42), params)\n",
        "grid.fit(X_train, y_train)\n",
        "grid.best_params_"
      ],
      "execution_count": 6,
      "outputs": [
        {
          "output_type": "execute_result",
          "data": {
            "text/plain": [
              "{'criterion': 'gini', 'max_depth': 6, 'n_estimators': 100}"
            ]
          },
          "metadata": {},
          "execution_count": 6
        }
      ]
    },
    {
      "cell_type": "markdown",
      "metadata": {
        "id": "8zJIKw4fbMuW"
      },
      "source": [
        "###4. Провести кроссвалидацию модели\n"
      ]
    },
    {
      "cell_type": "code",
      "metadata": {
        "id": "i8tx9z7AL5nW"
      },
      "source": [
        "clf = RandomForestClassifier(criterion='gini', max_depth=6, n_estimators=100, random_state=42)"
      ],
      "execution_count": 7,
      "outputs": []
    },
    {
      "cell_type": "code",
      "metadata": {
        "colab": {
          "base_uri": "https://localhost:8080/"
        },
        "id": "nTkZ5liGMNNq",
        "outputId": "a77a446f-6eb5-41d7-908f-0975a27048ca"
      },
      "source": [
        "cv = KFold(n_splits=5, random_state=42)\n",
        "metrics = ['precision', 'recall', 'f1']\n",
        "for metric in metrics:\n",
        "  print(f'Cross validation with {metric} is:', cross_val_score(clf, X_train, y_train, cv=cv, scoring=metric).mean())\n"
      ],
      "execution_count": 8,
      "outputs": [
        {
          "output_type": "stream",
          "name": "stdout",
          "text": [
            "Cross validation with precision is: 0.8246559545106056\n",
            "Cross validation with recall is: 0.6845962059620596\n",
            "Cross validation with f1 is: 0.7476840687667023\n"
          ]
        }
      ]
    },
    {
      "cell_type": "markdown",
      "metadata": {
        "id": "ElCRHx8YbPCX"
      },
      "source": [
        "###5. Оценить метрики бинарной классификации (Precision, recall, f1)\n"
      ]
    },
    {
      "cell_type": "code",
      "metadata": {
        "colab": {
          "base_uri": "https://localhost:8080/"
        },
        "id": "7bhbpAqMPtpY",
        "outputId": "4da89005-38ae-4b1c-f3c8-812dec2dad3b"
      },
      "source": [
        "clf.fit(X_train, y_train)\n",
        "print('Precision', precision_score(y_test, clf.predict(X_test)))\n",
        "print('Recall', recall_score(y_test, clf.predict(X_test)))\n",
        "print('F1', f1_score(y_test, clf.predict(X_test)))\n",
        "#print('roc_auc_score', roc_auc_score(y_test, clf.predict_proba(X_test)[:, 1]))"
      ],
      "execution_count": 9,
      "outputs": [
        {
          "output_type": "stream",
          "name": "stdout",
          "text": [
            "Precision 0.8105263157894737\n",
            "Recall 0.6936936936936937\n",
            "F1 0.7475728155339806\n"
          ]
        }
      ]
    },
    {
      "cell_type": "markdown",
      "metadata": {
        "id": "7ZY-pqj5bQkO"
      },
      "source": [
        "###6. Построить ROC-кривую для оценки качества классификатора"
      ]
    },
    {
      "cell_type": "code",
      "metadata": {
        "colab": {
          "base_uri": "https://localhost:8080/",
          "height": 442
        },
        "id": "r0bsc-SKRudx",
        "outputId": "899d6b1b-5b4e-427e-a7c5-4a4d7efed3cf"
      },
      "source": [
        "fpr, tpr, thresholds = roc_curve(y_test, clf.predict_proba(X_test)[:, 1])\n",
        "\n",
        "plt.figure(figsize=(12, 7))\n",
        "plt.plot(fpr, tpr)\n",
        "plt.plot([0, 1], [0, 1], 'k--')\n",
        "plt.xlim([-0.05, 1.0])\n",
        "plt.ylim([0.0, 1.05])\n",
        "plt.xlabel('False Positive Rate')\n",
        "plt.ylabel('True Positive Rate')\n",
        "plt.show()"
      ],
      "execution_count": 10,
      "outputs": [
        {
          "output_type": "display_data",
          "data": {
            "image/png": "[encoded data removed]",
            "text/plain": [
              "<Figure size 864x504 with 1 Axes>"
            ]
          },
          "metadata": {
            "needs_background": "light"
          }
        }
      ]
    }
  ]
}