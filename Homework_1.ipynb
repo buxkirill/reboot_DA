{
 "cells": [
  {
   "cell_type": "code",
   "execution_count": null,
   "metadata": {},
   "outputs": [],
   "source": [
    "import csv\n",
    "import sys\n",
    "import io\n",
    "import json\n",
    "import re\n",
    "from collections import Counter"
   ]
  },
  {
   "cell_type": "code",
   "execution_count": 2,
   "metadata": {},
   "outputs": [
    {
     "name": "stdout",
     "output_type": "stream",
     "text": [
      "Wall time: 3.09 s\n"
     ]
    }
   ],
   "source": [
    "%%time\n",
    "csv.field_size_limit(99999999)\n",
    "vacs = list(csv.DictReader(io.open('Vacancy.csv', encoding='utf-8')))"
   ]
  },
  {
   "cell_type": "markdown",
   "metadata": {},
   "source": [
    "### если потребуется вывести вакансию в html"
   ]
  },
  {
   "cell_type": "code",
   "execution_count": null,
   "metadata": {},
   "outputs": [],
   "source": [
    "decode_html = json.loads(vacs[0]['vachtml'])\n",
    "decode_html"
   ]
  },
  {
   "cell_type": "markdown",
   "metadata": {},
   "source": [
    "# Сколько вакансий, которые вам нравятся?\n",
    "Допустим, мне нравятся все вакансии, у которых в описании есть слова sql и python\n",
    "\n",
    "Добавим в каждый словарь ключ/признак, нравится ли мне эта вакансия (true) или нет (false)"
   ]
  },
  {
   "cell_type": "code",
   "execution_count": 4,
   "metadata": {},
   "outputs": [
    {
     "name": "stdout",
     "output_type": "stream",
     "text": [
      "Wall time: 609 ms\n"
     ]
    }
   ],
   "source": [
    "%%time\n",
    "for i in range(len(vacs)):\n",
    "    #добавим в словарь признак, нравится ли мне вакансия\n",
    "    vacs[i]['is_good_vac'] = ('python' in vacs[i]['vacdescription'].lower()) or ('sql' in vacs[i]['vacdescription'].lower())\n",
    "    \n",
    "    #удалим из словаря код html, чтобы не мешался\n",
    "    vacs[i].pop('vachtml', None)"
   ]
  },
  {
   "cell_type": "code",
   "execution_count": 5,
   "metadata": {},
   "outputs": [
    {
     "data": {
      "text/plain": [
       "OrderedDict([('id', '383479'),\n",
       "             ('created_at', '2021-03-14 09:39:21.854462'),\n",
       "             ('updated_at', '2021-03-14 09:39:21.854584'),\n",
       "             ('vacid', '1474941'),\n",
       "             ('vactitle', 'Senior java-разработчик (в команду Онбординга)'),\n",
       "             ('vacdescription',\n",
       "              ' Работа у нас — это:команда профессионалов, готовых поддержать ваши инициативы;мощное железо, дополнительные мониторы и всё, что нужно для продуктивной работы;обучение за счёт компании;гибкий графиккрасивый и комфортный офис  г. Санкт-Петербург, м. Ладожская  пл. Карла Фаберже 8 ВДМС;прозрачная система бонусов и премий, достойная зарплата — размер обсудим на собеседовании.Информация о проекте:Наша команда делает новые экспериментальные фичи для СБОЛа.Сейчас мы разрабатываем систему, с помощью которой разные команды Сбера смогут создавать квесты для мобильного приложения.Также мы будем разрабатывать внутреннюю платформу для продуктовых экспериментов. Описание команды:2-pizza team: сейчас у нас работают разработчики iOS и Android, продакт и аналитик. К команде в ближайшее время подключится тестировщик и еще один аналитик. Мы ожидаем, что Вы:Работали раннее в продуктовой agile-команде;Имеете опыт работы больше 4 лет с Java и ее экосистемой;Владеете Spring: Core, MVC, Boot, Cloud;Работали с реляционными БД;Трепетно относитесь к тестовому покрытию;Будете относиться с заботой к нашим пользователям, продукту и команде. Будет здорово, если вы:Умеете готовить ansible;Работали с k8s;Использовали kafka;Умеете оптимизировать SQL-запросы. Вам предстоит:отвечать за качество технических решений;придумывать реализацию для безумных идей наших продактов;разрабатывать сервисы, интегрироваться с множеством систем банка.Информация о проекте:Наша команда делает новые экспериментальные фичи для СБОЛа.Сейчас мы разрабатываем систему, с помощью которой разные команды Сбера смогут создавать квесты для мобильного приложения.Также мы будем разрабатывать внутреннюю платформу для продуктовых экспериментов. Описание команды:2-pizza team: сейчас у нас работают разработчики iOS и Android, продакт и аналитик. К команде в ближайшее время подключится тестировщик и еще один аналитик. Мы ожидаем, что Вы:Работали раннее в продуктовой agile-команде;Имеете опыт работы больше 4 лет с Java и ее экосистемой;Владеете Spring: Core, MVC, Boot, Cloud;Работали с реляционными БД;Трепетно относитесь к тестовому покрытию;Будете относиться с заботой к нашим пользователям, продукту и команде. Будет здорово, если вы:Умеете готовить ansible;Работали с k8s;Использовали kafka;Умеете оптимизировать SQL-запросы. Вам предстоит:отвечать за качество технических решений;придумывать реализацию для безумных идей наших продактов;разрабатывать сервисы, интегрироваться с множеством систем банка. Работа у нас — это:команда профессионалов, готовых поддержать ваши инициативы;мощное железо, дополнительные мониторы и всё, что нужно для продуктивной работы;обучение за счёт компании;гибкий графиккрасивый и комфортный офис  г. Санкт-Петербург, м. Ладожская  пл. Карла Фаберже 8 ВДМС;прозрачная система бонусов и премий, достойная зарплата — размер обсудим на собеседовании.'),\n",
       "             ('vacdate', '2021-03-15'),\n",
       "             ('vacstatus', 'new'),\n",
       "             ('vaclink',\n",
       "              'https://my.sbertalents.ru/#/job-requisition/1474941'),\n",
       "             ('is_good_vac', True)])"
      ]
     },
     "execution_count": 5,
     "metadata": {},
     "output_type": "execute_result"
    }
   ],
   "source": [
    "vacs[0]"
   ]
  },
  {
   "cell_type": "markdown",
   "metadata": {},
   "source": [
    "посчитаем все вакансии, в которых признак is_good_vac == true\n"
   ]
  },
  {
   "cell_type": "code",
   "execution_count": 6,
   "metadata": {},
   "outputs": [
    {
     "data": {
      "text/plain": [
       "1289"
      ]
     },
     "execution_count": 6,
     "metadata": {},
     "output_type": "execute_result"
    }
   ],
   "source": [
    "sum([x['is_good_vac'] for x in vacs])"
   ]
  },
  {
   "cell_type": "markdown",
   "metadata": {},
   "source": [
    "# Насколько свежие эти вакансии?\n",
    "\n",
    "Создадим список, в котором будет указана дата вакансии, если она мне нравится. Если она мне не нравится, что будет указана None"
   ]
  },
  {
   "cell_type": "code",
   "execution_count": 7,
   "metadata": {},
   "outputs": [
    {
     "data": {
      "text/plain": [
       "['2021-03-15', None, None, '2021-03-15', '2021-03-15']"
      ]
     },
     "execution_count": 7,
     "metadata": {},
     "output_type": "execute_result"
    }
   ],
   "source": [
    "my_vacs_date = [x['vacdate'] if x['is_good_vac'] else None for x in vacs]\n",
    "my_vacs_date[:5]"
   ]
  },
  {
   "cell_type": "markdown",
   "metadata": {},
   "source": [
    "отфильтруем список"
   ]
  },
  {
   "cell_type": "code",
   "execution_count": 8,
   "metadata": {},
   "outputs": [
    {
     "data": {
      "text/plain": [
       "['2021-03-15', '2021-03-15', '2021-03-15', '2021-03-15', '2021-03-15']"
      ]
     },
     "execution_count": 8,
     "metadata": {},
     "output_type": "execute_result"
    }
   ],
   "source": [
    "my_vacs_date = list(filter(lambda x: x != None, my_vacs_date))\n",
    "my_vacs_date[:5]"
   ]
  },
  {
   "cell_type": "markdown",
   "metadata": {},
   "source": [
    "Выведем наиболее встречаемые даты вакансий"
   ]
  },
  {
   "cell_type": "code",
   "execution_count": 9,
   "metadata": {},
   "outputs": [
    {
     "data": {
      "text/plain": [
       "[('2021-03-16', 59),\n",
       " ('2021-03-17', 58),\n",
       " ('2021-03-15', 56),\n",
       " ('2021-03-01', 55),\n",
       " ('2021-03-03', 53),\n",
       " ('2021-03-02', 47),\n",
       " ('2021-03-11', 46),\n",
       " ('2021-03-10', 46),\n",
       " ('2021-02-24', 42),\n",
       " ('2021-03-09', 41),\n",
       " ('2021-03-05', 37),\n",
       " ('2021-02-25', 36),\n",
       " ('2021-02-17', 34),\n",
       " ('2021-02-03', 32),\n",
       " ('2021-03-12', 31),\n",
       " ('2021-03-04', 30),\n",
       " ('2021-02-16', 28),\n",
       " ('2021-01-11', 26),\n",
       " ('2021-02-26', 25),\n",
       " ('2021-02-19', 25)]"
      ]
     },
     "execution_count": 9,
     "metadata": {},
     "output_type": "execute_result"
    }
   ],
   "source": [
    "Counter(my_vacs_date).most_common(20)"
   ]
  },
  {
   "cell_type": "markdown",
   "metadata": {},
   "source": [
    "Видим, что большинство вакансий от февраля/марта."
   ]
  },
  {
   "cell_type": "markdown",
   "metadata": {},
   "source": [
    "Проверим какой у вакансий статус"
   ]
  },
  {
   "cell_type": "code",
   "execution_count": 10,
   "metadata": {},
   "outputs": [
    {
     "data": {
      "text/plain": [
       "[('new', 1289)]"
      ]
     },
     "execution_count": 10,
     "metadata": {},
     "output_type": "execute_result"
    }
   ],
   "source": [
    "my_vacs_status = [x['vacstatus'] if x['is_good_vac'] else None for x in vacs]\n",
    "my_vacs_status = list(filter(lambda x: x != None, my_vacs_status))\n",
    "Counter(my_vacs_status).most_common()"
   ]
  },
  {
   "cell_type": "markdown",
   "metadata": {},
   "source": [
    "У всех статус new"
   ]
  },
  {
   "cell_type": "markdown",
   "metadata": {},
   "source": [
    "# Сколько вакансий с позициями на которых вы работаете?\n",
    "\n",
    "Попробуем найти вакансии в которых будет указана фраза сопровождение транзакционного..."
   ]
  },
  {
   "cell_type": "code",
   "execution_count": 11,
   "metadata": {},
   "outputs": [
    {
     "name": "stdout",
     "output_type": "stream",
     "text": [
      "Wall time: 954 ms\n"
     ]
    }
   ],
   "source": [
    "%%time\n",
    "for i in range(len(vacs)):\n",
    "    #добавим в словарь признак\n",
    "    vacs[i]['similar_vac'] = re.findall(r'\\bсопровожден.. \\bтранз', vacs[i]['vacdescription'].lower()) != []"
   ]
  },
  {
   "cell_type": "code",
   "execution_count": 12,
   "metadata": {},
   "outputs": [
    {
     "data": {
      "text/plain": [
       "0"
      ]
     },
     "execution_count": 12,
     "metadata": {},
     "output_type": "execute_result"
    }
   ],
   "source": [
    "sum([x['similar_vac'] for x in vacs])"
   ]
  },
  {
   "cell_type": "markdown",
   "metadata": {},
   "source": [
    "Таких оказалось 0"
   ]
  },
  {
   "cell_type": "markdown",
   "metadata": {},
   "source": [
    "# Сколько вакансий для аналатика данных?\n",
    "Попробуем найти вакансии, у которых в названии есть слово \"аналитик\""
   ]
  },
  {
   "cell_type": "code",
   "execution_count": 13,
   "metadata": {},
   "outputs": [
    {
     "name": "stdout",
     "output_type": "stream",
     "text": [
      "Wall time: 565 ms\n"
     ]
    }
   ],
   "source": [
    "%%time\n",
    "pattern = r'data.anal|data.аналит|аналитик.данн|аналитик.dat'\n",
    "for i in range(len(vacs)):\n",
    "    #добавим в словарь признак\n",
    "    vacs[i]['vac_for_analytic'] = re.findall(pattern, vacs[i]['vacdescription'].lower()) != []"
   ]
  },
  {
   "cell_type": "code",
   "execution_count": 14,
   "metadata": {},
   "outputs": [
    {
     "data": {
      "text/plain": [
       "21"
      ]
     },
     "execution_count": 14,
     "metadata": {},
     "output_type": "execute_result"
    }
   ],
   "source": [
    "sum([x['vac_for_analytic'] for x in vacs])"
   ]
  },
  {
   "cell_type": "markdown",
   "metadata": {},
   "source": [
    "Таких оказалось 21"
   ]
  },
  {
   "cell_type": "markdown",
   "metadata": {},
   "source": [
    "# Сколько вакансий для аналитика данных с использованием Python?\n",
    "Найдем вакансии,  у которых в названии есть слово \"аналитик\" и дополнительно в описании есть слово \"python\""
   ]
  },
  {
   "cell_type": "code",
   "execution_count": 15,
   "metadata": {},
   "outputs": [
    {
     "name": "stdout",
     "output_type": "stream",
     "text": [
      "Wall time: 518 ms\n"
     ]
    }
   ],
   "source": [
    "%%time\n",
    "pattern = r'data.anal|data.аналит|аналитик.данн|аналитик.dat'\n",
    "for i in range(len(vacs)):\n",
    "    #добавим в словарь признак\n",
    "    vacs[i]['vac_for_analytic_with_python'] = (re.findall(pattern, vacs[i]['vacdescription'].lower()) != []) and ('python' in vacs[i]['vacdescription'].lower())"
   ]
  },
  {
   "cell_type": "code",
   "execution_count": 16,
   "metadata": {},
   "outputs": [
    {
     "data": {
      "text/plain": [
       "12"
      ]
     },
     "execution_count": 16,
     "metadata": {},
     "output_type": "execute_result"
    }
   ],
   "source": [
    "sum([x['vac_for_analytic_with_python'] for x in vacs])"
   ]
  },
  {
   "cell_type": "markdown",
   "metadata": {},
   "source": [
    "Таких вакансий оказалось 12"
   ]
  }
 ],
 "metadata": {
  "kernelspec": {
   "display_name": "Python 3",
   "language": "python",
   "name": "python3"
  },
  "language_info": {
   "codemirror_mode": {
    "name": "ipython",
    "version": 3
   },
   "file_extension": ".py",
   "mimetype": "text/x-python",
   "name": "python",
   "nbconvert_exporter": "python",
   "pygments_lexer": "ipython3",
   "version": "3.7.6"
  }
 },
 "nbformat": 4,
 "nbformat_minor": 4
}
