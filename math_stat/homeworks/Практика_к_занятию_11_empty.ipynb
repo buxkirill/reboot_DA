{
  "nbformat": 4,
  "nbformat_minor": 0,
  "metadata": {
    "colab": {
      "name": "Практика_к_занятию_11 empty.ipynb",
      "provenance": [],
      "collapsed_sections": [],
      "include_colab_link": true
    },
    "kernelspec": {
      "display_name": "Python 3",
      "language": "python",
      "name": "python3"
    },
    "language_info": {
      "codemirror_mode": {
        "name": "ipython",
        "version": 3
      },
      "file_extension": ".py",
      "mimetype": "text/x-python",
      "name": "python",
      "nbconvert_exporter": "python",
      "pygments_lexer": "ipython3",
      "version": "3.7.6"
    }
  },
  "cells": [
    {
      "cell_type": "markdown",
      "metadata": {
        "id": "view-in-github",
        "colab_type": "text"
      },
      "source": [
        "<a href=\"https://colab.research.google.com/github/buxkirill/reboot_DA/blob/main/math_stat/homeworks/%D0%9F%D1%80%D0%B0%D0%BA%D1%82%D0%B8%D0%BA%D0%B0_%D0%BA_%D0%B7%D0%B0%D0%BD%D1%8F%D1%82%D0%B8%D1%8E_11_empty.ipynb\" target=\"_parent\"><img src=\"https://colab.research.google.com/assets/colab-badge.svg\" alt=\"Open In Colab\"/></a>"
      ]
    },
    {
      "cell_type": "markdown",
      "metadata": {
        "id": "pDrecLU-4QjS"
      },
      "source": [
        "# Практика"
      ]
    },
    {
      "cell_type": "code",
      "metadata": {
        "id": "48UPnBhbKgNY"
      },
      "source": [
        "import pandas as pd\n",
        "import numpy as np\n",
        "import matplotlib.pyplot as plt\n",
        "import scipy.stats as sts\n",
        "import random\n",
        "import itertools\n",
        "import pandas as pd\n",
        "from sklearn.utils import shuffle\n",
        "from collections import namedtuple\n",
        "\n",
        "%matplotlib inline"
      ],
      "execution_count": 2,
      "outputs": []
    },
    {
      "cell_type": "markdown",
      "metadata": {
        "id": "gUvTNDlMaV-a"
      },
      "source": [
        "## Определение вероятности. События\n",
        "\n",
        "Требуется сгенерировать необходимые выборки и произвести по ним расчеты"
      ]
    },
    {
      "cell_type": "markdown",
      "metadata": {
        "id": "5V70InEBTgup"
      },
      "source": [
        "### Задача 1\n",
        "Брошено две монеты. Найти вероятность того, что монеты выпали разными сторонами"
      ]
    },
    {
      "cell_type": "code",
      "metadata": {
        "id": "88Iw-SL3jYQV",
        "colab": {
          "base_uri": "https://localhost:8080/"
        },
        "outputId": "8ffdde8c-45de-4d86-e236-08eb5445daed"
      },
      "source": [
        "n = 100000\n",
        "array1 = np.array([sts.bernoulli(0.5).rvs(n)])\n",
        "array2 = np.array([sts.bernoulli(0.5).rvs(n)])\n",
        "first_condition = [(1, 0), (0, 1)]\n",
        "\n",
        "concat_array = np.concatenate((array1.reshape(n, 1), \n",
        "                               array2.reshape(n, 1)), axis=1)\n",
        "filtered_array = list(filter(lambda x: (x[0], x[1]) in first_condition, concat_array))\n",
        "print(len(filtered_array) / len(concat_array))"
      ],
      "execution_count": null,
      "outputs": [
        {
          "output_type": "stream",
          "name": "stdout",
          "text": [
            "0.49759\n"
          ]
        }
      ]
    },
    {
      "cell_type": "markdown",
      "metadata": {
        "id": "t0XOMos2Tl0e"
      },
      "source": [
        "### Задача 2\n",
        "Брошено три монеты. Описать множество всех элементарных событий. Найти вероятности следующих событий:\n",
        "\n",
        "\n",
        "1.   A = {не выпало ни одного герба}\n",
        "2.   B = {выпало четное число гербов}\n",
        "3.   C = {на третьей монете выпал герб}\n"
      ]
    },
    {
      "cell_type": "code",
      "metadata": {
        "colab": {
          "base_uri": "https://localhost:8080/"
        },
        "id": "GCv_4_IqI3Kj",
        "outputId": "98d8d01d-713f-4704-d10a-e5de29937c9f"
      },
      "source": [
        "# множество элементарных событий\n",
        "set(itertools.product([0, 1], [0, 1], [0, 1]))"
      ],
      "execution_count": null,
      "outputs": [
        {
          "output_type": "execute_result",
          "data": {
            "text/plain": [
              "{(0, 0, 0),\n",
              " (0, 0, 1),\n",
              " (0, 1, 0),\n",
              " (0, 1, 1),\n",
              " (1, 0, 0),\n",
              " (1, 0, 1),\n",
              " (1, 1, 0),\n",
              " (1, 1, 1)}"
            ]
          },
          "metadata": {},
          "execution_count": 3
        }
      ]
    },
    {
      "cell_type": "code",
      "metadata": {
        "id": "o7NjAE9uUo-L",
        "colab": {
          "base_uri": "https://localhost:8080/"
        },
        "outputId": "891b8ba5-e14e-4af8-d59b-fd301860ce7a"
      },
      "source": [
        "n = 100000\n",
        "array1 = np.array([sts.bernoulli(0.5).rvs(n)])\n",
        "array2 = np.array([sts.bernoulli(0.5).rvs(n)])\n",
        "array3 = np.array([sts.bernoulli(0.5).rvs(n)])\n",
        "\n",
        "first_condition = [(0, 0, 0)]\n",
        "second_condition = [(0, 0, 1), (0, 1, 0), (1, 0, 0)]\n",
        "\n",
        "concat_array = np.concatenate((array1.reshape(n, 1), \n",
        "                               array2.reshape(n, 1),\n",
        "                               array3.reshape(n, 1)), axis=1)\n",
        "\n",
        "filtered_array1 = list(filter(lambda x: (x[0], x[1], x[2]) in first_condition, concat_array))\n",
        "filtered_array2 = list(filter(lambda x: (x[0], x[1], x[2]) in second_condition, concat_array))\n",
        "filtered_array3 = list(filter(lambda x: (x[2]) == 0, concat_array)) # 50% шанс, что на третьей монете выпадет герб\n",
        "\n",
        "print('A:', len(filtered_array1) / len(concat_array))\n",
        "print('B:', len(filtered_array2) / len(concat_array))\n",
        "print('C:', len(filtered_array3) / len(concat_array))"
      ],
      "execution_count": null,
      "outputs": [
        {
          "output_type": "stream",
          "name": "stdout",
          "text": [
            "A: 0.12639\n",
            "B: 0.37526\n",
            "C: 0.50024\n"
          ]
        }
      ]
    },
    {
      "cell_type": "markdown",
      "metadata": {
        "id": "MQ7mNmTgLd_M"
      },
      "source": [
        "Предлагается также решить задачи: \n",
        "\n",
        "### Задача 3\n",
        "Из двух претендентов E и L на ответственную должность три члена комиссии должны отобрать одного. Каждый член комиссии должен указать либо одного достойного, либо забраковать обоих. Претендент считается выбранным, если он был признана достойным хотя бы двумя членами комиссии.\n",
        "Найти вероятность событий:\n",
        "\n",
        "A = {рекомендован L}, B = {рекомендован E}\n"
      ]
    },
    {
      "cell_type": "code",
      "metadata": {
        "id": "18y7Oj0PLd_O",
        "colab": {
          "base_uri": "https://localhost:8080/"
        },
        "outputId": "6d6bd371-2e32-422a-8f2b-8f6f139b1cf2"
      },
      "source": [
        "n = 100000\n",
        "E = 1\n",
        "L = 2\n",
        "array1 = np.random.randint(0, 3, n)\n",
        "array2 = np.random.randint(0, 3, n)\n",
        "array3 = np.random.randint(0, 3, n)\n",
        "\n",
        "concat_array = np.concatenate((array1.reshape(n, 1), \n",
        "                               array2.reshape(n, 1),\n",
        "                               array3.reshape(n, 1)), axis=1)\n",
        "\n",
        "print('E: ', len(np.where(np.sum(concat_array == E, axis=1) >= 2)[0]) / n)\n",
        "print('L: ', len(np.where(np.sum(concat_array == L, axis=1) >= 2)[0]) / n)"
      ],
      "execution_count": null,
      "outputs": [
        {
          "output_type": "stream",
          "name": "stdout",
          "text": [
            "E:  0.2589\n",
            "L:  0.26071\n"
          ]
        }
      ]
    },
    {
      "cell_type": "markdown",
      "metadata": {
        "id": "peM38mVfYa5B"
      },
      "source": [
        "### Задача 4\n",
        "Брошено две игральных кости. Описать множество элементарных событий. Найти вероятности событий:\n",
        "\n",
        "A = {вышло две \"шестерки\"}\n",
        "\n",
        "B = {сумма выпавших очков не меньше 11}\n",
        "\n",
        "C = {не выпала ни одна \"шестерка\"}"
      ]
    },
    {
      "cell_type": "code",
      "metadata": {
        "colab": {
          "base_uri": "https://localhost:8080/"
        },
        "id": "8BcnFKq5Jcw6",
        "outputId": "fcc3ed98-69dd-4978-dbd7-23e5d918ac71"
      },
      "source": [
        "# множество элементарных событий\n",
        "set(itertools.product(range(1, 7), range(1, 7)))"
      ],
      "execution_count": null,
      "outputs": [
        {
          "output_type": "execute_result",
          "data": {
            "text/plain": [
              "{(1, 1),\n",
              " (1, 2),\n",
              " (1, 3),\n",
              " (1, 4),\n",
              " (1, 5),\n",
              " (1, 6),\n",
              " (2, 1),\n",
              " (2, 2),\n",
              " (2, 3),\n",
              " (2, 4),\n",
              " (2, 5),\n",
              " (2, 6),\n",
              " (3, 1),\n",
              " (3, 2),\n",
              " (3, 3),\n",
              " (3, 4),\n",
              " (3, 5),\n",
              " (3, 6),\n",
              " (4, 1),\n",
              " (4, 2),\n",
              " (4, 3),\n",
              " (4, 4),\n",
              " (4, 5),\n",
              " (4, 6),\n",
              " (5, 1),\n",
              " (5, 2),\n",
              " (5, 3),\n",
              " (5, 4),\n",
              " (5, 5),\n",
              " (5, 6),\n",
              " (6, 1),\n",
              " (6, 2),\n",
              " (6, 3),\n",
              " (6, 4),\n",
              " (6, 5),\n",
              " (6, 6)}"
            ]
          },
          "metadata": {},
          "execution_count": 6
        }
      ]
    },
    {
      "cell_type": "code",
      "metadata": {
        "id": "25Gu7PSwLd_U",
        "colab": {
          "base_uri": "https://localhost:8080/"
        },
        "outputId": "8d8f4a13-36d5-486d-b309-1d2d43ae5035"
      },
      "source": [
        "n = 100000\n",
        "array1 = np.random.randint(1, 7, n)\n",
        "array2 = np.random.randint(1, 7, n)\n",
        "\n",
        "first_condition = [(6, 6)]\n",
        "second_condition = [(0, 0, 1), (0, 1, 0), (1, 0, 0)]\n",
        "third_condition = [(1, 1, 0)]\n",
        "\n",
        "concat_array = np.concatenate((array1.reshape(n, 1), \n",
        "                               array2.reshape(n, 1)), axis=1)\n",
        "\n",
        "\n",
        "\n",
        "filtered_array1 = list(filter(lambda x: (x[0], x[1]) in first_condition, concat_array))\n",
        "filtered_array2 = np.where(np.sum(concat_array, axis=1) >= 11)\n",
        "filtered_array3 = list(filter(lambda x: (x[0] != 6) & (x[1] != 6) , concat_array))\n",
        "\n",
        "print('A:', len(filtered_array1) / len(concat_array))\n",
        "print('B:', len(filtered_array2[0]) / len(concat_array))\n",
        "print('C:', len(filtered_array3) / len(concat_array))"
      ],
      "execution_count": null,
      "outputs": [
        {
          "output_type": "stream",
          "name": "stdout",
          "text": [
            "A: 0.02714\n",
            "B: 0.08291\n",
            "C: 0.69525\n"
          ]
        }
      ]
    },
    {
      "cell_type": "markdown",
      "metadata": {
        "id": "f-Bi0p8haclB"
      },
      "source": [
        "## Вероятность суммы событий"
      ]
    },
    {
      "cell_type": "markdown",
      "metadata": {
        "id": "g7A7QlvGTnwZ"
      },
      "source": [
        "### Задача 5\n",
        "Брошены две игральные кости. Найти вероятность события D = {выпала хотя бы одна шестёрка}\n"
      ]
    },
    {
      "cell_type": "code",
      "metadata": {
        "id": "vjtTJN-kUp9D",
        "colab": {
          "base_uri": "https://localhost:8080/"
        },
        "outputId": "19c5e9d0-5716-4932-aa80-f723e2922477"
      },
      "source": [
        "n = 100000\n",
        "array1 = np.random.randint(1, 7, n)\n",
        "array2 = np.random.randint(1, 7, n)\n",
        "\n",
        "concat_array = np.concatenate((array1.reshape(n, 1), \n",
        "                               array2.reshape(n, 1)), axis=1)\n",
        "\n",
        "\n",
        "filtered_array1 = list(filter(lambda x: (x[0] == 6) | (x[1] == 6) , concat_array))\n",
        "\n",
        "print('D:', len(filtered_array1) / len(concat_array))"
      ],
      "execution_count": null,
      "outputs": [
        {
          "output_type": "stream",
          "name": "stdout",
          "text": [
            "D: 0.30328\n"
          ]
        }
      ]
    },
    {
      "cell_type": "markdown",
      "metadata": {
        "id": "R1bYSzQQbC6I"
      },
      "source": [
        "Предлагается также решить задачи: \n",
        "\n",
        "### Задача 6\n",
        "В телефонном номере три последние цифры стерлись. Считая, что все возможные значения стершихся цифр равновероятны, найти вероятность событий:\n",
        "\n",
        "A = {Стерлись различные цифры},\n",
        "\n",
        "B = {Стерлись одинаковые цифры},\n",
        "\n",
        "C = {Среди стершихся цифр хотя бы две совпадают},\n",
        "\n",
        "D = {Среди стершихся цифр хотя бы две различны}\n"
      ]
    },
    {
      "cell_type": "code",
      "metadata": {
        "id": "m_8xFGaNLd_Y",
        "colab": {
          "base_uri": "https://localhost:8080/"
        },
        "outputId": "e8374e50-4818-4a3d-a232-093c9ec15bdc"
      },
      "source": [
        "n = 100000\n",
        "array1 = np.random.randint(0, 10, n)\n",
        "array2 = np.random.randint(0, 10, n)\n",
        "array3 = np.random.randint(0, 10, n)\n",
        "\n",
        "concat_array = np.concatenate((array1.reshape(n, 1), \n",
        "                               array2.reshape(n, 1),\n",
        "                               array3.reshape(n, 1)), axis=1)\n",
        "\n",
        "filtered_array1 = list(filter(lambda x: (x[0] != x[1] and x[2] != x[0] and x[2] != x[1]) , concat_array)) #72%, что все 3 цифры различны\n",
        "filtered_array2 = list(filter(lambda x: (x[0] == x[1] and x[1] == x[2]) , concat_array))\n",
        "filtered_array3 = list(filter(lambda x: (x[0] == x[1] or x[1] == x[2] or x[0] == x[2]) , concat_array))\n",
        "filtered_array4 = list(filter(lambda x: (x[0] != x[1] or x[1] != x[2] or x[0] != x[2]) , concat_array))\n",
        "\n",
        "\n",
        "print('A:', len(filtered_array1) / len(concat_array))\n",
        "print('B:', len(filtered_array2) / len(concat_array))\n",
        "print('C:', len(filtered_array3) / len(concat_array))\n",
        "print('D:', len(filtered_array4) / len(concat_array))"
      ],
      "execution_count": null,
      "outputs": [
        {
          "output_type": "stream",
          "name": "stdout",
          "text": [
            "A: 0.71963\n",
            "B: 0.0102\n",
            "C: 0.28037\n",
            "D: 0.9898\n"
          ]
        }
      ]
    },
    {
      "cell_type": "markdown",
      "metadata": {
        "id": "RnugkR8BalK_"
      },
      "source": [
        "## Случайные величины"
      ]
    },
    {
      "cell_type": "markdown",
      "metadata": {
        "id": "yLoZDZ17UVsp"
      },
      "source": [
        "### Задача 7\n",
        "В лотерее имеется 10 билетов, из которых один выигрышный. Размер выигрыша 10 ден. ед.; стоимость билета 1 ден ед. Найти закон распределения случайной величины X, равной чистому выигрышу участника лотереи, который вытаскивает билет первым."
      ]
    },
    {
      "cell_type": "code",
      "metadata": {
        "colab": {
          "base_uri": "https://localhost:8080/",
          "height": 111
        },
        "id": "Z7YAo6kBEUOm",
        "outputId": "df232885-ca50-49bd-fefc-5a406f631a17"
      },
      "source": [
        "pd.DataFrame({'X1': [9, 0.1], 'X2': [-1, 0.9]}, index=['Чистый выигрыш', 'Вероятность события'])"
      ],
      "execution_count": 16,
      "outputs": [
        {
          "output_type": "execute_result",
          "data": {
            "text/html": [
              "<div>\n",
              "<style scoped>\n",
              "    .dataframe tbody tr th:only-of-type {\n",
              "        vertical-align: middle;\n",
              "    }\n",
              "\n",
              "    .dataframe tbody tr th {\n",
              "        vertical-align: top;\n",
              "    }\n",
              "\n",
              "    .dataframe thead th {\n",
              "        text-align: right;\n",
              "    }\n",
              "</style>\n",
              "<table border=\"1\" class=\"dataframe\">\n",
              "  <thead>\n",
              "    <tr style=\"text-align: right;\">\n",
              "      <th></th>\n",
              "      <th>X1</th>\n",
              "      <th>X2</th>\n",
              "    </tr>\n",
              "  </thead>\n",
              "  <tbody>\n",
              "    <tr>\n",
              "      <th>Чистый выигрыш</th>\n",
              "      <td>9.0</td>\n",
              "      <td>-1.0</td>\n",
              "    </tr>\n",
              "    <tr>\n",
              "      <th>Вероятность события</th>\n",
              "      <td>0.1</td>\n",
              "      <td>0.9</td>\n",
              "    </tr>\n",
              "  </tbody>\n",
              "</table>\n",
              "</div>"
            ],
            "text/plain": [
              "                      X1   X2\n",
              "Чистый выигрыш       9.0 -1.0\n",
              "Вероятность события  0.1  0.9"
            ]
          },
          "metadata": {},
          "execution_count": 16
        }
      ]
    },
    {
      "cell_type": "code",
      "metadata": {
        "colab": {
          "base_uri": "https://localhost:8080/",
          "height": 559
        },
        "id": "DGzm1jplFNph",
        "outputId": "afc49552-0d03-48a0-bea4-8919b7ec6bc1"
      },
      "source": [
        "n = 1000000\n",
        "array = np.random.choice([9, -1], size=n, p=[0.1, 0.9])\n",
        "plt.hist(array)\n",
        "plt.title('Гистограмма')\n",
        "plt.show()\n",
        "\n",
        "plt.plot(np.cumsum(array))\n",
        "plt.title('Чистый выигрыш накопительным итогом')\n",
        "plt.ylabel('Чистый выигрыш')\n",
        "plt.xlabel('Количество попыток')\n",
        "plt.show()"
      ],
      "execution_count": 29,
      "outputs": [
        {
          "output_type": "display_data",
          "data": {
            "image/png": "[encoded data removed]",
            "text/plain": [
              "<Figure size 432x288 with 1 Axes>"
            ]
          },
          "metadata": {
            "needs_background": "light"
          }
        },
        {
          "output_type": "display_data",
          "data": {
            "image/png": "[encoded data removed]",
            "text/plain": [
              "<Figure size 432x288 with 1 Axes>"
            ]
          },
          "metadata": {
            "needs_background": "light"
          }
        }
      ]
    },
    {
      "cell_type": "markdown",
      "metadata": {
        "id": "TSHKfl1uGOjV"
      },
      "source": [
        "Второй вариант:"
      ]
    },
    {
      "cell_type": "code",
      "metadata": {
        "colab": {
          "base_uri": "https://localhost:8080/",
          "height": 279
        },
        "id": "0lvmw8gcmX2T",
        "outputId": "c89a733e-4c99-4018-ab36-b36fb3c08612"
      },
      "source": [
        "n = 10000\n",
        "array = np.array([shuffle([1,0,0,0,0,0,0,0,0,0]) for _ in range(n)])\n",
        "costs = np.arange(1, n+1)\n",
        "\n",
        "plt.plot(costs, np.cumsum(array[:, 0] * 10))\n",
        "plt.xlabel('Количество купленных билетов')\n",
        "plt.ylabel('Сумма выигрыша')\n",
        "plt.show()"
      ],
      "execution_count": null,
      "outputs": [
        {
          "output_type": "display_data",
          "data": {
            "image/png": "[encoded data removed]",
            "text/plain": [
              "<Figure size 432x288 with 1 Axes>"
            ]
          },
          "metadata": {
            "needs_background": "light"
          }
        }
      ]
    },
    {
      "cell_type": "markdown",
      "metadata": {
        "id": "U-NK9liSbpvb"
      },
      "source": [
        "Предлагается также решить задачу: \n",
        "\n",
        "### Задача 8\n",
        "Брошены две игральные кости. Найти закон распределения случайной величины $X$, равной сумме выпавших очков. Найти вероятности событий ${X <= 4}$, ${X > 4}$"
      ]
    },
    {
      "cell_type": "code",
      "metadata": {
        "id": "cu84GVmFLd_a",
        "colab": {
          "base_uri": "https://localhost:8080/",
          "height": 476
        },
        "outputId": "8a8abc29-ccb0-493d-944a-b23712902c83"
      },
      "source": [
        "n = 100000\n",
        "array1 = np.random.randint(1, 7, n)\n",
        "array2 = np.random.randint(1, 7, n)\n",
        "\n",
        "sum_array = array1 + array2\n",
        "\n",
        "print('Вероятность X <= 4:', len(np.where(sum_array <= 4)[0]) / n)\n",
        "print('Вероятность X > 4:', len(np.where(sum_array > 4)[0]) / n)\n",
        "plt.figure(figsize=(15,7))\n",
        "plt.hist(sum_array)\n",
        "plt.xlabel('Количество бросков')\n",
        "plt.ylabel('Сумма выпавших очков')\n",
        "plt.show()"
      ],
      "execution_count": null,
      "outputs": [
        {
          "output_type": "stream",
          "name": "stdout",
          "text": [
            "Вероятность X <= 4: 0.16613\n",
            "Вероятность X > 4: 0.83387\n"
          ]
        },
        {
          "output_type": "display_data",
          "data": {
            "image/png": "[encoded data removed]",
            "text/plain": [
              "<Figure size 1080x504 with 1 Axes>"
            ]
          },
          "metadata": {
            "needs_background": "light"
          }
        }
      ]
    },
    {
      "cell_type": "markdown",
      "metadata": {
        "id": "shgW4D83awjK"
      },
      "source": [
        "## Условные вероятности"
      ]
    },
    {
      "cell_type": "markdown",
      "metadata": {
        "id": "Fbu1RFZwWZrk"
      },
      "source": [
        "### Задача 9\n",
        "Из колоды (36 карт) вынимают последовательно без возвращения две карты. Найти вероятность того, что первой картой была шестерка, а второй — семерка. Найти условную вероятность того же события при условии, что обе карты бубновой масти.\n"
      ]
    },
    {
      "cell_type": "code",
      "metadata": {
        "id": "037o56awW9-E",
        "colab": {
          "base_uri": "https://localhost:8080/"
        },
        "outputId": "64017328-62c4-4ded-bca6-1e310649bc3b"
      },
      "source": [
        "Card = namedtuple('Card', ['value', 'suit'])\n",
        "suits = ['hearts', 'diamonds', 'spades', 'clubs']\n",
        "cards = [Card(value, suit) for value in range(6, 15) for suit in suits]\n",
        "n = 100000\n",
        "first_card = '6'\n",
        "second_card  = '7'\n",
        "\n",
        "cards = np.array([shuffle([Card(value, suit) for value in range(6, 15) for suit in suits]) for _ in range(n)])\n",
        "\n",
        "\n",
        "print('Вероятность, что первая карта 6, а вторая 7:', \n",
        "      len(list(filter(lambda x: (x[0][0] == first_card and x[1][0] == second_card) , cards))) / n)\n",
        "\n",
        "\n",
        "print('Вероятность, что первая карта 6 бубновая, вторая карта 7 бубновая:', \n",
        "      len(list(filter(lambda x: (x[0][1] == 'diamonds' and x[0][0] == first_card) \\\n",
        "                      and (x[1][1] == 'diamonds' and x[1][0] == second_card) , cards))) / n)"
      ],
      "execution_count": null,
      "outputs": [
        {
          "output_type": "stream",
          "name": "stdout",
          "text": [
            "Вероятность, что первая карта 6, а вторая 7: 0.01257\n",
            "Вероятность, что первая карта 6 бубновая, вторая карта 7 бубновая: 0.00075\n"
          ]
        }
      ]
    },
    {
      "cell_type": "markdown",
      "metadata": {
        "id": "hNVxtaz5c57b"
      },
      "source": [
        "Предлагается также решить задачу: \n",
        "\n",
        "### Задача 10\n",
        "Из урны, содержащей два белых и три черных шара, последовательно извлекают два шара; вынутые шары не возвращаются. Если первый шар оказался черным, то перед вторым извлечением в урну добавляют белый шар. В противном случае состав оставшихся шаров не меняют. Найти вероятности событий:\n",
        "\n",
        "$A$ = {извлечены два белых шара},\n",
        "\n",
        "$B$ = {извлечены два черных шара}\n",
        "\n",
        "Указание. Пусть событие $C_1$ = {первый шар белый}, событие $C_2$ = {второй шар белый}. Тогда $A = C_1C_2$, $B = \\overline C_1 \\overline C_2$ "
      ]
    },
    {
      "cell_type": "code",
      "metadata": {
        "id": "WSLnhk2sdBt_",
        "colab": {
          "base_uri": "https://localhost:8080/"
        },
        "outputId": "eb6d3dfa-2903-4bfd-a52d-cde07bc76059"
      },
      "source": [
        "WHITE = 0\n",
        "BLACK = 1\n",
        "urn = [0, 0, 1, 1, 1]\n",
        "urn_second_after_black = [0, 0, 0, 1, 1]\n",
        "urn_second_after_white = [0, 1, 1, 1]\n",
        "n = 100000\n",
        "choices = []\n",
        "\n",
        "for x in range(n):\n",
        "  first_choice = np.random.choice(urn)\n",
        "  if first_choice:\n",
        "    second_choice = np.random.choice(urn_second_after_black)\n",
        "  else:\n",
        "    second_choice = np.random.choice(urn_second_after_white)\n",
        "  choices.append([first_choice, second_choice])\n",
        "\n",
        "filtered_array1 = list(filter(lambda x: (x[0], x[1]) == (WHITE, WHITE), choices))\n",
        "filtered_array2 = list(filter(lambda x: (x[0], x[1]) == (BLACK, BLACK), choices))\n",
        "\n",
        "print('Извлечены два белых шара', len(filtered_array1) / n)\n",
        "print('Извлечены два черных шара', len(filtered_array2) / n)"
      ],
      "execution_count": null,
      "outputs": [
        {
          "output_type": "stream",
          "name": "stdout",
          "text": [
            "Извлечены два белых шара 0.10096\n",
            "Извлечены два черных шара 0.23945\n"
          ]
        }
      ]
    }
  ]
}