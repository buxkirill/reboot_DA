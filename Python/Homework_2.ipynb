{
 "cells": [
  {
   "cell_type": "code",
   "execution_count": 1,
   "metadata": {},
   "outputs": [],
   "source": [
    "import requests\n",
    "import json\n",
    "from joblib import dump, load\n",
    "import pandas as pd\n",
    "import matplotlib.pyplot as plt"
   ]
  },
  {
   "cell_type": "code",
   "execution_count": 2,
   "metadata": {},
   "outputs": [],
   "source": [
    "# Задание вытащить все вакансии СБЕРа с ХХ (у апи есть ограничение в 2000, подумайте как его обойти)\n",
    "# Вытащите все описания этих вакансий\n",
    "# Создайте аналогичный vacancy DataFrame только добавьте поле skills\n",
    "# Переведите даты публикаций в datetime\n",
    "# Постройте график опубликованных вакансий по датам\n",
    "# Переведите даты в дни недели, и определите день недели, в который больше всего публикуют вакансий\n",
    "# Найдите те вакансии с использованием python, которые вам интересны\n",
    "# Определите по полю skills какие навыки больше всего востребованы для этих вакансий, и\n",
    "# Постройте график наиболее востребованных вакансий"
   ]
  },
  {
   "cell_type": "markdown",
   "metadata": {},
   "source": [
    "### Всего чуть более 6 тысяч вакансий на вечер 27 июля \n",
    "Максимальное количество, которое можно выгрузить - 2 тысячи.\n",
    "\n",
    "Выберем 4 временных отрезка, чтобы выгрузить абсолютно все вакансии при помощи атрибутов date_from and date_to"
   ]
  },
  {
   "cell_type": "code",
   "execution_count": 3,
   "metadata": {},
   "outputs": [],
   "source": [
    "date_list = [('2021-07-23T00:00:00', '2021-07-27T23:59:59'),\n",
    "             ('2021-07-14T00:00:00', '2021-07-22T23:59:59'),\n",
    "             ('2021-07-02T00:00:00', '2021-07-13T23:59:59'),\n",
    "             ('2021-06-01T00:00:00', '2021-07-01T23:59:59')]"
   ]
  },
  {
   "cell_type": "markdown",
   "metadata": {},
   "source": [
    "### Вытащим все вакансии"
   ]
  },
  {
   "cell_type": "code",
   "execution_count": 4,
   "metadata": {},
   "outputs": [
    {
     "name": "stdout",
     "output_type": "stream",
     "text": [
      "Wall time: 35.5 s\n"
     ]
    }
   ],
   "source": [
    "%%time\n",
    "#создаем пустой df\n",
    "df_with_vacs = pd.DataFrame()\n",
    "\n",
    "#цикл по каждому временному отрезку, который был выбран ранее\n",
    "for date_from, date_to in date_list:\n",
    "    sber = '3529'\n",
    "    page = 1\n",
    "    num_per_page = 100\n",
    "    moscow = 113\n",
    "    url = f'https://api.hh.ru/vacancies?employer_id={sber}&page={page}&per_page={num_per_page}&area={moscow}&date_from={date_from}&date_to={date_to}&order_by=publication_time'\n",
    "    res = requests.get(url)\n",
    "    \n",
    "    #получаем количество страниц в выбранном временном отрезке\n",
    "    number_of_pages_in_period = res.json().get('pages')\n",
    "    for i in range(number_of_pages_in_period): # цикл с перебором всех страниц в периоде\n",
    "        url = f'https://api.hh.ru/vacancies?employer_id={sber}&page={i}&per_page={num_per_page}&area={moscow}&date_from={date_from}&date_to={date_to}&order_by=publication_time'\n",
    "        res = requests.get(url)\n",
    "        vacancies = res.json()\n",
    "        \n",
    "        #добавляем вакансии накопительным итогом\n",
    "        df_with_vacs = df_with_vacs.append(pd.DataFrame(vacancies.get('items')))\n",
    "        \n",
    "df_with_vacs.reset_index(inplace=True)"
   ]
  },
  {
   "cell_type": "code",
   "execution_count": 13,
   "metadata": {},
   "outputs": [],
   "source": [
    "#dump(df_with_vacs, 'df_with_vacs.joblib')\n",
    "#df_with_vacs = load('df_with_vacs.joblib')"
   ]
  },
  {
   "cell_type": "code",
   "execution_count": 14,
   "metadata": {},
   "outputs": [
    {
     "name": "stdout",
     "output_type": "stream",
     "text": [
      "6025\n"
     ]
    }
   ],
   "source": [
    "print(len(df_with_vacs))"
   ]
  },
  {
   "cell_type": "code",
   "execution_count": 15,
   "metadata": {},
   "outputs": [
    {
     "data": {
      "text/html": [
       "<div>\n",
       "<style scoped>\n",
       "    .dataframe tbody tr th:only-of-type {\n",
       "        vertical-align: middle;\n",
       "    }\n",
       "\n",
       "    .dataframe tbody tr th {\n",
       "        vertical-align: top;\n",
       "    }\n",
       "\n",
       "    .dataframe thead th {\n",
       "        text-align: right;\n",
       "    }\n",
       "</style>\n",
       "<table border=\"1\" class=\"dataframe\">\n",
       "  <thead>\n",
       "    <tr style=\"text-align: right;\">\n",
       "      <th></th>\n",
       "      <th>id</th>\n",
       "      <th>premium</th>\n",
       "      <th>name</th>\n",
       "      <th>department</th>\n",
       "      <th>has_test</th>\n",
       "      <th>response_letter_required</th>\n",
       "      <th>area</th>\n",
       "      <th>salary</th>\n",
       "      <th>type</th>\n",
       "      <th>address</th>\n",
       "      <th>...</th>\n",
       "      <th>employer</th>\n",
       "      <th>snippet</th>\n",
       "      <th>contacts</th>\n",
       "      <th>schedule</th>\n",
       "      <th>working_days</th>\n",
       "      <th>working_time_intervals</th>\n",
       "      <th>working_time_modes</th>\n",
       "      <th>accept_temporary</th>\n",
       "      <th>immediate_redirect_url</th>\n",
       "      <th>week_day</th>\n",
       "    </tr>\n",
       "  </thead>\n",
       "  <tbody>\n",
       "    <tr>\n",
       "      <th>0</th>\n",
       "      <td>45654914</td>\n",
       "      <td>False</td>\n",
       "      <td>Senior Linux Engineer, трайб Global Trading Pl...</td>\n",
       "      <td>{'id': '3529-3529-it', 'name': 'Сбер. IT'}</td>\n",
       "      <td>False</td>\n",
       "      <td>False</td>\n",
       "      <td>{'id': '1', 'name': 'Москва', 'url': 'https://...</td>\n",
       "      <td>None</td>\n",
       "      <td>{'id': 'open', 'name': 'Открытая'}</td>\n",
       "      <td>{'city': 'Москва', 'street': 'Новоданиловская ...</td>\n",
       "      <td>...</td>\n",
       "      <td>{'id': '3529', 'name': 'Сбербанк', 'url': 'htt...</td>\n",
       "      <td>{'requirement': 'Требуемые навыки: Ключевой Li...</td>\n",
       "      <td>None</td>\n",
       "      <td>{'id': 'fullDay', 'name': 'Полный день'}</td>\n",
       "      <td>[]</td>\n",
       "      <td>[]</td>\n",
       "      <td>[]</td>\n",
       "      <td>False</td>\n",
       "      <td>NaN</td>\n",
       "      <td>1</td>\n",
       "    </tr>\n",
       "    <tr>\n",
       "      <th>1</th>\n",
       "      <td>45656128</td>\n",
       "      <td>False</td>\n",
       "      <td>Инженер поддержки торговых систем/Application ...</td>\n",
       "      <td>{'id': '3529-3529-it', 'name': 'Сбер. IT'}</td>\n",
       "      <td>False</td>\n",
       "      <td>False</td>\n",
       "      <td>{'id': '1', 'name': 'Москва', 'url': 'https://...</td>\n",
       "      <td>None</td>\n",
       "      <td>{'id': 'open', 'name': 'Открытая'}</td>\n",
       "      <td>{'city': 'Москва', 'street': 'Новоданиловская ...</td>\n",
       "      <td>...</td>\n",
       "      <td>{'id': '3529', 'name': 'Сбербанк', 'url': 'htt...</td>\n",
       "      <td>{'requirement': 'Ø Опыт работы в сопровождении...</td>\n",
       "      <td>None</td>\n",
       "      <td>{'id': 'fullDay', 'name': 'Полный день'}</td>\n",
       "      <td>[]</td>\n",
       "      <td>[]</td>\n",
       "      <td>[]</td>\n",
       "      <td>False</td>\n",
       "      <td>NaN</td>\n",
       "      <td>1</td>\n",
       "    </tr>\n",
       "  </tbody>\n",
       "</table>\n",
       "<p>2 rows × 30 columns</p>\n",
       "</div>"
      ],
      "text/plain": [
       "         id  premium                                               name  \\\n",
       "0  45654914    False  Senior Linux Engineer, трайб Global Trading Pl...   \n",
       "1  45656128    False  Инженер поддержки торговых систем/Application ...   \n",
       "\n",
       "                                   department  has_test  \\\n",
       "0  {'id': '3529-3529-it', 'name': 'Сбер. IT'}     False   \n",
       "1  {'id': '3529-3529-it', 'name': 'Сбер. IT'}     False   \n",
       "\n",
       "   response_letter_required  \\\n",
       "0                     False   \n",
       "1                     False   \n",
       "\n",
       "                                                area salary  \\\n",
       "0  {'id': '1', 'name': 'Москва', 'url': 'https://...   None   \n",
       "1  {'id': '1', 'name': 'Москва', 'url': 'https://...   None   \n",
       "\n",
       "                                 type  \\\n",
       "0  {'id': 'open', 'name': 'Открытая'}   \n",
       "1  {'id': 'open', 'name': 'Открытая'}   \n",
       "\n",
       "                                             address  ...  \\\n",
       "0  {'city': 'Москва', 'street': 'Новоданиловская ...  ...   \n",
       "1  {'city': 'Москва', 'street': 'Новоданиловская ...  ...   \n",
       "\n",
       "                                            employer  \\\n",
       "0  {'id': '3529', 'name': 'Сбербанк', 'url': 'htt...   \n",
       "1  {'id': '3529', 'name': 'Сбербанк', 'url': 'htt...   \n",
       "\n",
       "                                             snippet contacts  \\\n",
       "0  {'requirement': 'Требуемые навыки: Ключевой Li...     None   \n",
       "1  {'requirement': 'Ø Опыт работы в сопровождении...     None   \n",
       "\n",
       "                                   schedule  working_days  \\\n",
       "0  {'id': 'fullDay', 'name': 'Полный день'}            []   \n",
       "1  {'id': 'fullDay', 'name': 'Полный день'}            []   \n",
       "\n",
       "  working_time_intervals working_time_modes accept_temporary  \\\n",
       "0                     []                 []            False   \n",
       "1                     []                 []            False   \n",
       "\n",
       "  immediate_redirect_url week_day  \n",
       "0                    NaN        1  \n",
       "1                    NaN        1  \n",
       "\n",
       "[2 rows x 30 columns]"
      ]
     },
     "execution_count": 15,
     "metadata": {},
     "output_type": "execute_result"
    }
   ],
   "source": [
    "df_with_vacs.head(2)"
   ]
  },
  {
   "cell_type": "markdown",
   "metadata": {},
   "source": [
    "### Получим описание вакансии\n",
    "\n",
    "Может был и другой способ, но я сделал по-простому. По каждому id делал запрос vacancies/{vacancy_id} Результат добавлял в list"
   ]
  },
  {
   "cell_type": "code",
   "execution_count": null,
   "metadata": {},
   "outputs": [],
   "source": [
    "%%time\n",
    "full_vacancy_description_list = []\n",
    "for id in df_with_vacs.id:\n",
    "    try:\n",
    "        full_vacancy_description_list.append(requests.get(f'https://api.hh.ru/vacancies/{id}').json())\n",
    "    except:\n",
    "        print(f'cant get description for id {id}')\n",
    "        \n",
    "#df_with_vacs['full_vacancy_description_list'] = full_vacancy_description_list\n",
    "#dump(df_with_vacs, 'df_with_vacs_with_description.joblib')\n",
    "#dump(full_vacancy_description_list, 'full_vacancy_description_list.joblib')"
   ]
  },
  {
   "cell_type": "code",
   "execution_count": 8,
   "metadata": {},
   "outputs": [
    {
     "name": "stdout",
     "output_type": "stream",
     "text": [
      "6025\n"
     ]
    }
   ],
   "source": [
    "print(len(full_vacancy_description_list))"
   ]
  },
  {
   "cell_type": "code",
   "execution_count": 29,
   "metadata": {},
   "outputs": [
    {
     "data": {
      "text/plain": [
       "{'id': '45654914',\n",
       " 'premium': False,\n",
       " 'billing_type': {'id': 'standard', 'name': 'Стандарт'},\n",
       " 'relations': [],\n",
       " 'name': 'Senior Linux Engineer, трайб Global Trading Platform',\n",
       " 'insider_interview': None,\n",
       " 'response_letter_required': False,\n",
       " 'area': {'id': '1', 'name': 'Москва', 'url': 'https://api.hh.ru/areas/1'},\n",
       " 'salary': None,\n",
       " 'type': {'id': 'open', 'name': 'Открытая'},\n",
       " 'address': {'city': 'Москва',\n",
       "  'street': 'Новоданиловская набережная',\n",
       "  'building': '10',\n",
       "  'description': None,\n",
       "  'lat': 55.695905,\n",
       "  'lng': 37.625361,\n",
       "  'raw': 'Москва, Новоданиловская набережная, 10',\n",
       "  'metro': {'station_name': 'Тульская',\n",
       "   'line_name': 'Серпуховско-Тимирязевская',\n",
       "   'station_id': '9.142',\n",
       "   'line_id': '9',\n",
       "   'lat': 55.70961,\n",
       "   'lng': 37.622569},\n",
       "  'metro_stations': [{'station_name': 'Тульская',\n",
       "    'line_name': 'Серпуховско-Тимирязевская',\n",
       "    'station_id': '9.142',\n",
       "    'line_id': '9',\n",
       "    'lat': 55.70961,\n",
       "    'lng': 37.622569}]},\n",
       " 'allow_messages': True,\n",
       " 'site': {'id': 'hh', 'name': 'hh.ru'},\n",
       " 'experience': {'id': 'between1And3', 'name': 'От 1 года до 3 лет'},\n",
       " 'schedule': {'id': 'fullDay', 'name': 'Полный день'},\n",
       " 'employment': {'id': 'full', 'name': 'Полная занятость'},\n",
       " 'department': {'id': '3529-3529-it', 'name': 'Сбер. IT'},\n",
       " 'contacts': None,\n",
       " 'description': '<p><strong><em>Команда инвестиционного бизнеса Сбера Global Trading Platform ищет специалиста по поддержке UNIX на разработку интеграционной шины.</em></strong></p> <p><em>Master команда занимается релизным процессом, архитектурными и инфраструктурными задачами и поддержкой продуктовых команд.</em></p> <p><em>У нас более 50 серверов RHEL, которые мы постепенно перевозим в OpenShift вместе со сменой архитектуры.</em></p> <p><em>Все это находится под управлением Jenkins &amp; Ansible, и для OpenShift Pipeline предстоит постоянно развивать.</em></p> <p><em>Мониторится в Nagios, в ближайшее время будем переводить на Prometeus + Zabbix.</em></p> <p><em>Их технологий интеграции используем IBM MQ, с переходом в ближайшее время на Kafka.</em></p> <p> </p> <p><strong>Типовые задачи сейчас</strong></p> <p>- Проверка сертификатов MQ</p> <p>- Проверка работоспособности стендов</p> <p>- Исправление мониторинга и триггеров в Nagios</p> <p> </p> <p><strong>Типовые задачи в ближайшей перспективе</strong></p> <p>- Помощь в развитии DevOps для OpenShift</p> <p>- Переход с Nagios на Zabbix+Prometeus</p> <p> </p> <p><strong>Требуемые навыки:</strong></p> <p>Ключевой Linux 3+ лет, IBM MQ + Kafka 1+ лет</p> <p>- Знание Linux на уровне пользователя</p> <p>- Знание команд в ОС, Power Shell</p> <p>- Умения построения архитектуры сетевых взаимодействий</p> <p>- Навыки написания SQL запросов (вложенные запросы, join-ы (inner, outer); кол-во таблиц не более 10, но не менее 2-3; чтение процедур, вью, знание основных функций Distinct, Order, Count, Group, Case, Exist и т.п.)</p> <p>- Знание английского на уровне чтения</p> <p> </p> <p> </p> <p> </p>',\n",
       " 'branded_description': None,\n",
       " 'vacancy_constructor_template': None,\n",
       " 'key_skills': [{'name': 'Linux'},\n",
       "  {'name': 'Ansible'},\n",
       "  {'name': 'SQL'},\n",
       "  {'name': 'OpenShift'},\n",
       "  {'name': 'Английский язык'}],\n",
       " 'accept_handicapped': False,\n",
       " 'accept_kids': False,\n",
       " 'archived': False,\n",
       " 'response_url': None,\n",
       " 'specializations': [{'id': '1.395',\n",
       "   'name': 'Банковское ПО',\n",
       "   'profarea_id': '1',\n",
       "   'profarea_name': 'Информационные технологии, интернет, телеком'},\n",
       "  {'id': '1.221',\n",
       "   'name': 'Программирование, Разработка',\n",
       "   'profarea_id': '1',\n",
       "   'profarea_name': 'Информационные технологии, интернет, телеком'},\n",
       "  {'id': '1.273',\n",
       "   'name': 'Системный администратор',\n",
       "   'profarea_id': '1',\n",
       "   'profarea_name': 'Информационные технологии, интернет, телеком'},\n",
       "  {'id': '1.420',\n",
       "   'name': 'Администратор баз данных',\n",
       "   'profarea_id': '1',\n",
       "   'profarea_name': 'Информационные технологии, интернет, телеком'}],\n",
       " 'code': None,\n",
       " 'hidden': False,\n",
       " 'quick_responses_allowed': False,\n",
       " 'driver_license_types': [],\n",
       " 'accept_incomplete_resumes': False,\n",
       " 'employer': {'id': '3529',\n",
       "  'name': 'Сбербанк',\n",
       "  'url': 'https://api.hh.ru/employers/3529',\n",
       "  'alternate_url': 'https://hh.ru/employer/3529',\n",
       "  'logo_urls': {'original': 'https://hhcdn.ru/employer-logo-original/868362.JPG',\n",
       "   '90': 'https://hhcdn.ru/employer-logo/3914323.jpeg',\n",
       "   '240': 'https://hhcdn.ru/employer-logo/3914324.jpeg'},\n",
       "  'vacancies_url': 'https://api.hh.ru/vacancies?employer_id=3529',\n",
       "  'trusted': True},\n",
       " 'published_at': '2021-07-27T20:26:25+0300',\n",
       " 'created_at': '2021-07-27T20:26:25+0300',\n",
       " 'negotiations_url': None,\n",
       " 'suitable_resumes_url': None,\n",
       " 'apply_alternate_url': 'https://hh.ru/applicant/vacancy_response?vacancyId=45654914',\n",
       " 'has_test': False,\n",
       " 'test': None,\n",
       " 'alternate_url': 'https://hh.ru/vacancy/45654914',\n",
       " 'working_days': [],\n",
       " 'working_time_intervals': [],\n",
       " 'working_time_modes': [],\n",
       " 'accept_temporary': False}"
      ]
     },
     "execution_count": 29,
     "metadata": {},
     "output_type": "execute_result"
    }
   ],
   "source": [
    "full_vacancy_description_list[0]"
   ]
  },
  {
   "cell_type": "markdown",
   "metadata": {},
   "source": [
    "### Изменить type на datetime"
   ]
  },
  {
   "cell_type": "code",
   "execution_count": 17,
   "metadata": {},
   "outputs": [
    {
     "data": {
      "text/plain": [
       "Timestamp('2021-07-27 17:26:25')"
      ]
     },
     "execution_count": 17,
     "metadata": {},
     "output_type": "execute_result"
    }
   ],
   "source": [
    "df_with_vacs.published_at = df_with_vacs.published_at.astype('datetime64[ns]')\n",
    "df_with_vacs.published_at.iloc[0]"
   ]
  },
  {
   "cell_type": "markdown",
   "metadata": {},
   "source": [
    "### Постройте график опубликованных вакансий по датам"
   ]
  },
  {
   "cell_type": "code",
   "execution_count": 18,
   "metadata": {},
   "outputs": [
    {
     "data": {
      "image/png": "[encoded data removed]",
      "text/plain": [
       "<Figure size 1440x720 with 1 Axes>"
      ]
     },
     "metadata": {
      "needs_background": "light"
     },
     "output_type": "display_data"
    }
   ],
   "source": [
    "plt.figure(figsize=(20,10))\n",
    "df_with_vacs.published_at.dt.round('D').value_counts().sort_index().plot(kind='bar')\n",
    "plt.show()"
   ]
  },
  {
   "cell_type": "markdown",
   "metadata": {},
   "source": [
    "Больше всего открытых вакансий были опубликованы в течение двух предыдущих дней.\n",
    "\n",
    "Получается, что большинство вакансий закрываются в первые дни после публикации"
   ]
  },
  {
   "cell_type": "markdown",
   "metadata": {},
   "source": [
    "### Переведите даты в дни недели, и определите день недели, в который больше всего публикуют вакансий"
   ]
  },
  {
   "cell_type": "code",
   "execution_count": 19,
   "metadata": {},
   "outputs": [
    {
     "data": {
      "image/png": "[encoded data removed]",
      "text/plain": [
       "<Figure size 1440x720 with 1 Axes>"
      ]
     },
     "metadata": {
      "needs_background": "light"
     },
     "output_type": "display_data"
    }
   ],
   "source": [
    "df_with_vacs['week_day'] = df_with_vacs.published_at.apply(lambda x: x.weekday())\n",
    "plt.figure(figsize=(20,10))\n",
    "df_with_vacs.week_day.value_counts().sort_index().plot(kind='bar')\n",
    "plt.show()"
   ]
  },
  {
   "cell_type": "markdown",
   "metadata": {},
   "source": [
    "0 - Понедельник\n",
    "\n",
    "6 - воскресенье\n",
    "\n",
    "Таким образом, больше всего вакансий появляется в понедельник/вторник"
   ]
  },
  {
   "cell_type": "markdown",
   "metadata": {},
   "source": [
    "### Найдите те вакансии с использованием python, которые вам интересны\n",
    "\n",
    "Допустим, что все вакансии у которых в snippet['requirement'] есть python мне интересны"
   ]
  },
  {
   "cell_type": "code",
   "execution_count": 20,
   "metadata": {},
   "outputs": [],
   "source": [
    "df_with_vacs['requirement'] = df_with_vacs.snippet.apply(lambda x: x['requirement'])\n",
    "df_with_vacs['requirement'].fillna('', inplace=True)\n",
    "df_with_vacs['vac_with_python'] = df_with_vacs.requirement.apply(lambda x: 'python' in x)"
   ]
  },
  {
   "cell_type": "code",
   "execution_count": 22,
   "metadata": {},
   "outputs": [
    {
     "data": {
      "text/html": [
       "<div>\n",
       "<style scoped>\n",
       "    .dataframe tbody tr th:only-of-type {\n",
       "        vertical-align: middle;\n",
       "    }\n",
       "\n",
       "    .dataframe tbody tr th {\n",
       "        vertical-align: top;\n",
       "    }\n",
       "\n",
       "    .dataframe thead th {\n",
       "        text-align: right;\n",
       "    }\n",
       "</style>\n",
       "<table border=\"1\" class=\"dataframe\">\n",
       "  <thead>\n",
       "    <tr style=\"text-align: right;\">\n",
       "      <th></th>\n",
       "      <th>id</th>\n",
       "      <th>premium</th>\n",
       "      <th>name</th>\n",
       "      <th>department</th>\n",
       "      <th>has_test</th>\n",
       "      <th>response_letter_required</th>\n",
       "      <th>area</th>\n",
       "      <th>salary</th>\n",
       "      <th>type</th>\n",
       "      <th>address</th>\n",
       "      <th>...</th>\n",
       "      <th>contacts</th>\n",
       "      <th>schedule</th>\n",
       "      <th>working_days</th>\n",
       "      <th>working_time_intervals</th>\n",
       "      <th>working_time_modes</th>\n",
       "      <th>accept_temporary</th>\n",
       "      <th>immediate_redirect_url</th>\n",
       "      <th>week_day</th>\n",
       "      <th>requirement</th>\n",
       "      <th>vac_with_python</th>\n",
       "    </tr>\n",
       "  </thead>\n",
       "  <tbody>\n",
       "    <tr>\n",
       "      <th>1176</th>\n",
       "      <td>45919676</td>\n",
       "      <td>False</td>\n",
       "      <td>ML Engineer (Массовая персонализация)</td>\n",
       "      <td>{'id': '3529-3529-prof', 'name': 'Сбер для экс...</td>\n",
       "      <td>False</td>\n",
       "      <td>False</td>\n",
       "      <td>{'id': '1', 'name': 'Москва', 'url': 'https://...</td>\n",
       "      <td>None</td>\n",
       "      <td>{'id': 'open', 'name': 'Открытая'}</td>\n",
       "      <td>None</td>\n",
       "      <td>...</td>\n",
       "      <td>None</td>\n",
       "      <td>{'id': 'fullDay', 'name': 'Полный день'}</td>\n",
       "      <td>[]</td>\n",
       "      <td>[]</td>\n",
       "      <td>[]</td>\n",
       "      <td>False</td>\n",
       "      <td>NaN</td>\n",
       "      <td>0</td>\n",
       "      <td>Опыт разработки на python. Понимание принципов...</td>\n",
       "      <td>True</td>\n",
       "    </tr>\n",
       "    <tr>\n",
       "      <th>1180</th>\n",
       "      <td>46523580</td>\n",
       "      <td>False</td>\n",
       "      <td>QA automation engineer/Инженер по автоматизаци...</td>\n",
       "      <td>{'id': '3529-3529-it', 'name': 'Сбер. IT'}</td>\n",
       "      <td>False</td>\n",
       "      <td>False</td>\n",
       "      <td>{'id': '1', 'name': 'Москва', 'url': 'https://...</td>\n",
       "      <td>None</td>\n",
       "      <td>{'id': 'open', 'name': 'Открытая'}</td>\n",
       "      <td>{'city': 'Москва', 'street': 'Кутузовский прос...</td>\n",
       "      <td>...</td>\n",
       "      <td>None</td>\n",
       "      <td>{'id': 'fullDay', 'name': 'Полный день'}</td>\n",
       "      <td>[]</td>\n",
       "      <td>[]</td>\n",
       "      <td>[]</td>\n",
       "      <td>False</td>\n",
       "      <td>NaN</td>\n",
       "      <td>0</td>\n",
       "      <td>Опыт автоматизации тестирования API. Опыт нагр...</td>\n",
       "      <td>True</td>\n",
       "    </tr>\n",
       "    <tr>\n",
       "      <th>1300</th>\n",
       "      <td>45674132</td>\n",
       "      <td>False</td>\n",
       "      <td>DevOps инженер (SberDevices)</td>\n",
       "      <td>{'id': '3529-3529-prof', 'name': 'Сбер для экс...</td>\n",
       "      <td>False</td>\n",
       "      <td>False</td>\n",
       "      <td>{'id': '1', 'name': 'Москва', 'url': 'https://...</td>\n",
       "      <td>None</td>\n",
       "      <td>{'id': 'open', 'name': 'Открытая'}</td>\n",
       "      <td>{'city': 'Москва', 'street': 'Кутузовский прос...</td>\n",
       "      <td>...</td>\n",
       "      <td>None</td>\n",
       "      <td>{'id': 'fullDay', 'name': 'Полный день'}</td>\n",
       "      <td>[]</td>\n",
       "      <td>[]</td>\n",
       "      <td>[]</td>\n",
       "      <td>False</td>\n",
       "      <td>NaN</td>\n",
       "      <td>0</td>\n",
       "      <td>Навыки работы в Linux, bash. Работа с docker, ...</td>\n",
       "      <td>True</td>\n",
       "    </tr>\n",
       "    <tr>\n",
       "      <th>1359</th>\n",
       "      <td>46510361</td>\n",
       "      <td>False</td>\n",
       "      <td>Python-разработчик</td>\n",
       "      <td>{'id': '3529-3529-prof', 'name': 'Сбер для экс...</td>\n",
       "      <td>False</td>\n",
       "      <td>False</td>\n",
       "      <td>{'id': '66', 'name': 'Нижний Новгород', 'url':...</td>\n",
       "      <td>None</td>\n",
       "      <td>{'id': 'open', 'name': 'Открытая'}</td>\n",
       "      <td>None</td>\n",
       "      <td>...</td>\n",
       "      <td>None</td>\n",
       "      <td>{'id': 'fullDay', 'name': 'Полный день'}</td>\n",
       "      <td>[]</td>\n",
       "      <td>[]</td>\n",
       "      <td>[]</td>\n",
       "      <td>False</td>\n",
       "      <td>NaN</td>\n",
       "      <td>0</td>\n",
       "      <td>Уверенное знание python, опыт разработки сетев...</td>\n",
       "      <td>True</td>\n",
       "    </tr>\n",
       "    <tr>\n",
       "      <th>1408</th>\n",
       "      <td>46257924</td>\n",
       "      <td>False</td>\n",
       "      <td>Python-разработчик в SberDevices (core-навык г...</td>\n",
       "      <td>{'id': '3529-3529-it', 'name': 'Сбер. IT'}</td>\n",
       "      <td>False</td>\n",
       "      <td>False</td>\n",
       "      <td>{'id': '1', 'name': 'Москва', 'url': 'https://...</td>\n",
       "      <td>None</td>\n",
       "      <td>{'id': 'open', 'name': 'Открытая'}</td>\n",
       "      <td>{'city': 'Москва', 'street': 'Кутузовский прос...</td>\n",
       "      <td>...</td>\n",
       "      <td>None</td>\n",
       "      <td>{'id': 'fullDay', 'name': 'Полный день'}</td>\n",
       "      <td>[]</td>\n",
       "      <td>[]</td>\n",
       "      <td>[]</td>\n",
       "      <td>False</td>\n",
       "      <td>NaN</td>\n",
       "      <td>0</td>\n",
       "      <td>Имеете коммерческий опыт разработки на python ...</td>\n",
       "      <td>True</td>\n",
       "    </tr>\n",
       "  </tbody>\n",
       "</table>\n",
       "<p>5 rows × 32 columns</p>\n",
       "</div>"
      ],
      "text/plain": [
       "            id  premium                                               name  \\\n",
       "1176  45919676    False              ML Engineer (Массовая персонализация)   \n",
       "1180  46523580    False  QA automation engineer/Инженер по автоматизаци...   \n",
       "1300  45674132    False                       DevOps инженер (SberDevices)   \n",
       "1359  46510361    False                                 Python-разработчик   \n",
       "1408  46257924    False  Python-разработчик в SberDevices (core-навык г...   \n",
       "\n",
       "                                             department  has_test  \\\n",
       "1176  {'id': '3529-3529-prof', 'name': 'Сбер для экс...     False   \n",
       "1180         {'id': '3529-3529-it', 'name': 'Сбер. IT'}     False   \n",
       "1300  {'id': '3529-3529-prof', 'name': 'Сбер для экс...     False   \n",
       "1359  {'id': '3529-3529-prof', 'name': 'Сбер для экс...     False   \n",
       "1408         {'id': '3529-3529-it', 'name': 'Сбер. IT'}     False   \n",
       "\n",
       "      response_letter_required  \\\n",
       "1176                     False   \n",
       "1180                     False   \n",
       "1300                     False   \n",
       "1359                     False   \n",
       "1408                     False   \n",
       "\n",
       "                                                   area salary  \\\n",
       "1176  {'id': '1', 'name': 'Москва', 'url': 'https://...   None   \n",
       "1180  {'id': '1', 'name': 'Москва', 'url': 'https://...   None   \n",
       "1300  {'id': '1', 'name': 'Москва', 'url': 'https://...   None   \n",
       "1359  {'id': '66', 'name': 'Нижний Новгород', 'url':...   None   \n",
       "1408  {'id': '1', 'name': 'Москва', 'url': 'https://...   None   \n",
       "\n",
       "                                    type  \\\n",
       "1176  {'id': 'open', 'name': 'Открытая'}   \n",
       "1180  {'id': 'open', 'name': 'Открытая'}   \n",
       "1300  {'id': 'open', 'name': 'Открытая'}   \n",
       "1359  {'id': 'open', 'name': 'Открытая'}   \n",
       "1408  {'id': 'open', 'name': 'Открытая'}   \n",
       "\n",
       "                                                address  ... contacts  \\\n",
       "1176                                               None  ...     None   \n",
       "1180  {'city': 'Москва', 'street': 'Кутузовский прос...  ...     None   \n",
       "1300  {'city': 'Москва', 'street': 'Кутузовский прос...  ...     None   \n",
       "1359                                               None  ...     None   \n",
       "1408  {'city': 'Москва', 'street': 'Кутузовский прос...  ...     None   \n",
       "\n",
       "                                      schedule working_days  \\\n",
       "1176  {'id': 'fullDay', 'name': 'Полный день'}           []   \n",
       "1180  {'id': 'fullDay', 'name': 'Полный день'}           []   \n",
       "1300  {'id': 'fullDay', 'name': 'Полный день'}           []   \n",
       "1359  {'id': 'fullDay', 'name': 'Полный день'}           []   \n",
       "1408  {'id': 'fullDay', 'name': 'Полный день'}           []   \n",
       "\n",
       "     working_time_intervals  working_time_modes accept_temporary  \\\n",
       "1176                     []                  []            False   \n",
       "1180                     []                  []            False   \n",
       "1300                     []                  []            False   \n",
       "1359                     []                  []            False   \n",
       "1408                     []                  []            False   \n",
       "\n",
       "     immediate_redirect_url week_day  \\\n",
       "1176                    NaN        0   \n",
       "1180                    NaN        0   \n",
       "1300                    NaN        0   \n",
       "1359                    NaN        0   \n",
       "1408                    NaN        0   \n",
       "\n",
       "                                            requirement vac_with_python  \n",
       "1176  Опыт разработки на python. Понимание принципов...            True  \n",
       "1180  Опыт автоматизации тестирования API. Опыт нагр...            True  \n",
       "1300  Навыки работы в Linux, bash. Работа с docker, ...            True  \n",
       "1359  Уверенное знание python, опыт разработки сетев...            True  \n",
       "1408  Имеете коммерческий опыт разработки на python ...            True  \n",
       "\n",
       "[5 rows x 32 columns]"
      ]
     },
     "execution_count": 22,
     "metadata": {},
     "output_type": "execute_result"
    }
   ],
   "source": [
    "df_with_vacs[df_with_vacs['vac_with_python'] == True].head()"
   ]
  },
  {
   "cell_type": "markdown",
   "metadata": {},
   "source": [
    "### Определите по полю skills какие навыки больше всего востребованы для этих вакансий, и\n",
    "\n",
    "Поле skills, или key_skills, находится в полном описании вакансии"
   ]
  },
  {
   "cell_type": "code",
   "execution_count": 23,
   "metadata": {},
   "outputs": [],
   "source": [
    "liked_vacs_id_list = list(df_with_vacs[df_with_vacs['vac_with_python'] == True].id)"
   ]
  },
  {
   "cell_type": "code",
   "execution_count": 24,
   "metadata": {},
   "outputs": [],
   "source": [
    "required_skills = []\n",
    "for full_vacancy_description in full_vacancy_description_list:\n",
    "    if full_vacancy_description['id'] in liked_vacs_id_list:\n",
    "        required_skills.append(full_vacancy_description['key_skills'])\n",
    "    "
   ]
  },
  {
   "cell_type": "code",
   "execution_count": 25,
   "metadata": {},
   "outputs": [
    {
     "data": {
      "text/plain": [
       "[[{'name': 'Linux'},\n",
       "  {'name': 'Java'},\n",
       "  {'name': 'Bash'},\n",
       "  {'name': 'Jenkins'},\n",
       "  {'name': 'Docker'},\n",
       "  {'name': 'Ansible'},\n",
       "  {'name': 'C/C++'},\n",
       "  {'name': 'Python'},\n",
       "  {'name': 'Groovy'}],\n",
       " [{'name': 'Python'},\n",
       "  {'name': 'SQL'},\n",
       "  {'name': 'PostgreSQL'},\n",
       "  {'name': 'Git'}],\n",
       " [{'name': 'Python'},\n",
       "  {'name': 'Git'},\n",
       "  {'name': 'Linux'},\n",
       "  {'name': 'Docker'},\n",
       "  {'name': 'SQL'}],\n",
       " [{'name': 'ELK'},\n",
       "  {'name': 'Python'},\n",
       "  {'name': 'JavaScript'},\n",
       "  {'name': 'SQL'}],\n",
       " [{'name': 'Linux'},\n",
       "  {'name': 'Java'},\n",
       "  {'name': 'Bash'},\n",
       "  {'name': 'Jenkins'},\n",
       "  {'name': 'Docker'},\n",
       "  {'name': 'Ansible'},\n",
       "  {'name': 'C/C++'},\n",
       "  {'name': 'Python'},\n",
       "  {'name': 'Groovy'}]]"
      ]
     },
     "execution_count": 25,
     "metadata": {},
     "output_type": "execute_result"
    }
   ],
   "source": [
    "list(filter(lambda x: x != [], required_skills))"
   ]
  },
  {
   "cell_type": "markdown",
   "metadata": {},
   "source": [
    "### Постройте график наиболее востребованных вакансий\n",
    "\n",
    "Попробуем посчитать количество самых востребованных вакансий по имени."
   ]
  },
  {
   "cell_type": "code",
   "execution_count": 26,
   "metadata": {},
   "outputs": [
    {
     "data": {
      "image/png": "[encoded data removed]",
      "text/plain": [
       "<Figure size 1440x720 with 1 Axes>"
      ]
     },
     "metadata": {
      "needs_background": "light"
     },
     "output_type": "display_data"
    },
    {
     "name": "stdout",
     "output_type": "stream",
     "text": [
      "Клиентский менеджер                                            977\n",
      "Старший клиентский менеджер                                    429\n",
      "Клиентский менеджер (Прямые продажи)                           404\n",
      "Консультант                                                    285\n",
      "Старший менеджер по обслуживанию                               277\n",
      "Менеджер по работе с ключевыми клиентами малого бизнеса        110\n",
      "Клиентский менеджер прямых продаж                               81\n",
      "Системный аналитик                                              57\n",
      "Старший специалист по взысканию задолженности                   46\n",
      "Главный клиентский менеджер малого бизнеса                      45\n",
      "Водитель-инкассатор                                             44\n",
      "Клиентский менеджер Сбербанк Премьер                            37\n",
      "Клиентский менеджер по работе с физическими лицами              36\n",
      "Ведущий специалист по взысканию задолженности                   30\n",
      "Менеджер по обслуживанию                                        26\n",
      "Ведущий специалист судебного и исполнительного производства     23\n",
      "Клиентский менеджер малого и микробизнеса                       22\n",
      "Клиентский менеджер (прямые продажи)                            22\n",
      "Клиентский менеджер Премьер                                     22\n",
      "Менеджер по продаже зарплатных проектов                         21\n",
      "Name: name, dtype: int64\n"
     ]
    }
   ],
   "source": [
    "plt.figure(figsize=(20,10))\n",
    "\n",
    "df_with_vacs.name.value_counts()[:20].plot(kind='bar')\n",
    "plt.show()\n",
    "print(df_with_vacs.name.value_counts()[:20])"
   ]
  }
 ],
 "metadata": {
  "kernelspec": {
   "display_name": "Python 3",
   "language": "python",
   "name": "python3"
  },
  "language_info": {
   "codemirror_mode": {
    "name": "ipython",
    "version": 3
   },
   "file_extension": ".py",
   "mimetype": "text/x-python",
   "name": "python",
   "nbconvert_exporter": "python",
   "pygments_lexer": "ipython3",
   "version": "3.7.6"
  }
 },
 "nbformat": 4,
 "nbformat_minor": 4
}
